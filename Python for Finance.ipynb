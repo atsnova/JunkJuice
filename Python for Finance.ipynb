{
 "cells": [
  {
   "cell_type": "code",
   "execution_count": null,
   "metadata": {},
   "outputs": [],
   "source": [
    "from pandas_datareader import data\n",
    "import pandas as pd\n",
    "import numpy as np\n",
    "import seaborn as sns\n",
    "\n",
    "import matplotlib.pyplot as plt\n",
    "import matplotlib.dates as mdates\n",
    "%matplotlib inline\n",
    "sns.set(style='darkgrid', context='talk', palette='Dark2')\n",
    "my_year_month_fmt = mdates.DateFormatter('%m/%y')\n",
    "\n"
   ]
  },
  {
   "cell_type": "code",
   "execution_count": null,
   "metadata": {},
   "outputs": [],
   "source": [
    "# Define the instruments to download. We would like to see Apple, Microsoft and the S&P500 index.\n",
    "tickers = ['AAPL', 'MSFT', '^GSPC']\n",
    "\n",
    "# We would like all available data from 01/01/2000 until 12/31/2016.\n",
    "start_date = '2010-01-01'\n",
    "end_date = '2016-12-31'\n",
    "\n",
    "# User pandas_reader.data.DataReader to load the desired data. As simple as that.\n",
    "panel_data = data.DataReader('INPX', 'google', start_date, end_date)"
   ]
  },
  {
   "cell_type": "code",
   "execution_count": null,
   "metadata": {},
   "outputs": [],
   "source": [
    "# view of panel data as dataframe\n",
    "panel_data.to_frame().head(9)"
   ]
  },
  {
   "cell_type": "code",
   "execution_count": null,
   "metadata": {},
   "outputs": [],
   "source": [
    "# Getting just the adjusted closing prices. This will return a Pandas DataFrame\n",
    "# The index in this DataFrame is the major index of the panel_data.\n",
    "close = panel_data['Close']\n",
    "\n",
    "# Getting all weekdays between 01/01/2000 and 12/31/2016\n",
    "all_weekdays = pd.date_range(start=start_date, end=end_date, freq='B')\n",
    "\n",
    "# How do we align the existing prices in adj_close with our new set of dates?\n",
    "# All we need to do is reindex close using all_weekdays as the new index\n",
    "close = close.reindex(all_weekdays)\n",
    "\n",
    "# Reindexing will insert missing values (NaN) for the dates that were not present\n",
    "# in the original set. To cope with this, we can fill the missing by replacing them\n",
    "# with the latest available price for each instrument.\n",
    "close = close.fillna(method='ffill')"
   ]
  },
  {
   "cell_type": "code",
   "execution_count": null,
   "metadata": {},
   "outputs": [],
   "source": [
    "#showing the series for all_weekday\n",
    "print(all_weekdays)"
   ]
  },
  {
   "cell_type": "code",
   "execution_count": null,
   "metadata": {},
   "outputs": [],
   "source": [
    "close.head(10)"
   ]
  },
  {
   "cell_type": "code",
   "execution_count": null,
   "metadata": {},
   "outputs": [],
   "source": [
    "# cleaned up dataset free of missing values\n",
    "close.describe()\n"
   ]
  },
  {
   "cell_type": "code",
   "execution_count": null,
   "metadata": {},
   "outputs": [],
   "source": [
    "# Get the MSFT timeseries. This now returns a Pandas Series object indexed by date.\n",
    "msft = close.loc[:, 'MSFT']\n",
    "\n",
    "# Calculate the 20 and 100 days moving averages of the closing prices\n",
    "short_rolling_msft = msft.rolling(window=20).mean()\n",
    "long_rolling_msft = msft.rolling(window=100).mean()\n",
    "\n",
    "# Plot everything by leveraging the very powerful matplotlib package\n",
    "fig, ax = plt.subplots(figsize=(16,9))\n",
    "\n",
    "ax.plot(msft.index, msft, label='MSFT')\n",
    "ax.plot(short_rolling_msft.index, short_rolling_msft, label='20 days rolling')\n",
    "ax.plot(long_rolling_msft.index, long_rolling_msft, label='100 days rolling')\n",
    "\n",
    "ax.set_xlabel('Date')\n",
    "ax.set_ylabel('Adjusted closing price ($)')\n",
    "ax.legend()"
   ]
  },
  {
   "cell_type": "code",
   "execution_count": null,
   "metadata": {},
   "outputs": [],
   "source": [
    "data = pd.read_pickle('./data.pkl')\n",
    "data.head(10)"
   ]
  },
  {
   "cell_type": "code",
   "execution_count": null,
   "metadata": {},
   "outputs": [],
   "source": [
    "# Calculating the short-window moving average\n",
    "short_rolling = data.rolling(window=20).mean()\n",
    "short_rolling.head()"
   ]
  },
  {
   "cell_type": "code",
   "execution_count": null,
   "metadata": {},
   "outputs": [],
   "source": [
    "# Calculating the short-window moving average\n",
    "long_rolling = data.rolling(window=100).mean()\n",
    "long_rolling.tail()"
   ]
  },
  {
   "cell_type": "code",
   "execution_count": null,
   "metadata": {},
   "outputs": [],
   "source": [
    "# Relative returns\n",
    "returns = data.pct_change(1)"
   ]
  },
  {
   "cell_type": "markdown",
   "metadata": {},
   "source": [
    "\\begin{equation} r_{\\text{relative}}\\left(t\\right) = \\frac{p\\left(t\\right) - p\\left(t-1\\right)}{p\\left(t-1\\right)} \\end{equation}"
   ]
  },
  {
   "cell_type": "code",
   "execution_count": 2,
   "metadata": {
    "scrolled": true
   },
   "outputs": [
    {
     "ename": "NameError",
     "evalue": "name 'np' is not defined",
     "output_type": "error",
     "traceback": [
      "\u001b[1;31m---------------------------------------------------------------------------\u001b[0m",
      "\u001b[1;31mNameError\u001b[0m                                 Traceback (most recent call last)",
      "\u001b[1;32m<ipython-input-2-45cbca3a57e7>\u001b[0m in \u001b[0;36m<module>\u001b[1;34m()\u001b[0m\n\u001b[0;32m      1\u001b[0m \u001b[1;31m# Log returns - First the logarithm of the prices is taken and the the difference of consecutive (log) observations\u001b[0m\u001b[1;33m\u001b[0m\u001b[1;33m\u001b[0m\u001b[0m\n\u001b[1;32m----> 2\u001b[1;33m \u001b[0mlog_returns\u001b[0m \u001b[1;33m=\u001b[0m \u001b[0mnp\u001b[0m\u001b[1;33m.\u001b[0m\u001b[0mlog\u001b[0m\u001b[1;33m(\u001b[0m\u001b[0mdata\u001b[0m\u001b[1;33m)\u001b[0m\u001b[1;33m.\u001b[0m\u001b[0mdiff\u001b[0m\u001b[1;33m(\u001b[0m\u001b[1;33m)\u001b[0m\u001b[1;33m\u001b[0m\u001b[0m\n\u001b[0m\u001b[0;32m      3\u001b[0m \u001b[0mlog_returns\u001b[0m\u001b[1;33m.\u001b[0m\u001b[0mhead\u001b[0m\u001b[1;33m(\u001b[0m\u001b[1;33m)\u001b[0m\u001b[1;33m\u001b[0m\u001b[0m\n",
      "\u001b[1;31mNameError\u001b[0m: name 'np' is not defined"
     ]
    }
   ],
   "source": [
    "# Log returns - First the logarithm of the prices is taken and the the difference of consecutive (log) observations\n",
    "log_returns = np.log(data).diff()\n",
    "log_returns.head()"
   ]
  },
  {
   "cell_type": "markdown",
   "metadata": {},
   "source": [
    "\\begin{equation} r\\left(t\\right) = \\log\\left( \\frac{p\\left(t\\right)}{p\\left(t-1\\right)} \\right) \\end{equation}"
   ]
  },
  {
   "cell_type": "markdown",
   "metadata": {},
   "source": [
    "Since we have log returns we can use the sum to generate a cumulitive return over time; then we convert it back to relative return to make it interpreable\n",
    "\n",
    "log-return of 1 != 100% return and money dobule but relative return = 1 does "
   ]
  },
  {
   "cell_type": "markdown",
   "metadata": {},
   "source": [
    "\\begin{equation} c\\left(t\\right) = \\sum_{k=1}^t r\\left(t\\right) \\end{equation}\n"
   ]
  },
  {
   "cell_type": "markdown",
   "metadata": {},
   "source": [
    "\\begin{equation} c_{\\text{relative}}\\left(t\\right) = e^{c\\left(t\\right)} - 1  \\end{equation}"
   ]
  },
  {
   "cell_type": "code",
   "execution_count": null,
   "metadata": {},
   "outputs": [],
   "source": [
    "fig, (ax1, ax2) = plt.subplots(2, 1, figsize=(16,12))\n",
    "\n",
    "for c in log_returns:\n",
    "    ax1.plot(log_returns.index, log_returns[c].cumsum(), label=str(c))\n",
    "\n",
    "ax1.set_ylabel('Cumulative log returns')\n",
    "ax1.legend(loc='best')\n",
    "\n",
    "for c in log_returns:\n",
    "    ax2.plot(log_returns.index, 100*(np.exp(log_returns[c].cumsum()) - 1), label=str(c))\n",
    "\n",
    "ax2.set_ylabel('Total relative returns (%)')\n",
    "ax2.legend(loc='best')\n",
    "\n",
    "plt.show()"
   ]
  },
  {
   "cell_type": "markdown",
   "metadata": {},
   "source": [
    "## Creating a trading strategy and optimisation of allocation"
   ]
  },
  {
   "cell_type": "markdown",
   "metadata": {},
   "source": [
    "\\begin{equation} w_i\\left(t\\right) \\in \\mathbb{R} \\ \\text{and} \\ \\sum_{i=1}^K w_i\\left(t\\right) \\leq 1 \\end{equation}"
   ]
  },
  {
   "cell_type": "code",
   "execution_count": null,
   "metadata": {},
   "outputs": [],
   "source": [
    "# Last day returns. Make this a column vector\n",
    "r_t = log_returns.tail(1).transpose()\n",
    "r_t"
   ]
  },
  {
   "cell_type": "code",
   "execution_count": null,
   "metadata": {},
   "outputs": [],
   "source": [
    "# Weights as defined above\n",
    "weights_vector = pd.DataFrame(1 / 3, index=r_t.index, columns=r_t.columns)\n",
    "weights_vector"
   ]
  },
  {
   "cell_type": "code",
   "execution_count": null,
   "metadata": {},
   "outputs": [],
   "source": [
    "# Total log_return for the portfolio is:\n",
    "portfolio_log_return = weights_vector.transpose().dot(r_t)\n",
    "portfolio_log_return"
   ]
  },
  {
   "cell_type": "markdown",
   "metadata": {},
   "source": [
    "If computer memory is not an issue, a very fast way of computing the portfolio returns for all days, t=1,…,Tt=1,…,T is the following:\n",
    "\n",
    "Assume that R∈RT×KR∈RT×K is a matrix, the ttth row of which is the row vector r⃗ (t)Tr→(t)T. Similarly, W∈RT×KW∈RT×K is a matrix, the ttth row of which is the row vector w⃗ (t)Tw→(t)T. Then if r⃗ p=[rp(1),…,rp(T)]T∈RT×1r→p=[rp(1),…,rp(T)]T∈RT×1 is a column vector of all portfolio returns, we have\n",
    "\n",
    "r⃗ p=diag{WRT}\n",
    "r→p=diag{WRT}\n",
    "where diag{A}diag{A} is the diagonal of a matrix AA. The diagonal extraction is required because only in the diagonal the weights and log-returns vectors are properly time-aligned."
   ]
  },
  {
   "cell_type": "code",
   "execution_count": 4,
   "metadata": {},
   "outputs": [
    {
     "ename": "NameError",
     "evalue": "name 'pd' is not defined",
     "output_type": "error",
     "traceback": [
      "\u001b[1;31m---------------------------------------------------------------------------\u001b[0m",
      "\u001b[1;31mNameError\u001b[0m                                 Traceback (most recent call last)",
      "\u001b[1;32m<ipython-input-4-b1d2f17ce88a>\u001b[0m in \u001b[0;36m<module>\u001b[1;34m()\u001b[0m\n\u001b[0;32m      1\u001b[0m \u001b[1;31m#This should be computated using matrix manipulation on a face PC\u001b[0m\u001b[1;33m\u001b[0m\u001b[1;33m\u001b[0m\u001b[0m\n\u001b[0;32m      2\u001b[0m \u001b[1;33m\u001b[0m\u001b[0m\n\u001b[1;32m----> 3\u001b[1;33m \u001b[0mweights_matrix\u001b[0m \u001b[1;33m=\u001b[0m \u001b[0mpd\u001b[0m\u001b[1;33m.\u001b[0m\u001b[0mDataFrame\u001b[0m\u001b[1;33m(\u001b[0m\u001b[1;36m1\u001b[0m \u001b[1;33m/\u001b[0m \u001b[1;36m3\u001b[0m\u001b[1;33m,\u001b[0m \u001b[0mindex\u001b[0m\u001b[1;33m=\u001b[0m\u001b[0mdata\u001b[0m\u001b[1;33m.\u001b[0m\u001b[0mindex\u001b[0m\u001b[1;33m,\u001b[0m \u001b[0mcolumns\u001b[0m\u001b[1;33m=\u001b[0m\u001b[0mdata\u001b[0m\u001b[1;33m.\u001b[0m\u001b[0mcolumns\u001b[0m\u001b[1;33m)\u001b[0m\u001b[1;33m\u001b[0m\u001b[0m\n\u001b[0m\u001b[0;32m      4\u001b[0m \u001b[0mweights_matrix\u001b[0m\u001b[1;33m.\u001b[0m\u001b[0mtail\u001b[0m\u001b[1;33m(\u001b[0m\u001b[1;33m)\u001b[0m\u001b[1;33m\u001b[0m\u001b[0m\n",
      "\u001b[1;31mNameError\u001b[0m: name 'pd' is not defined"
     ]
    }
   ],
   "source": [
    "#This should be computated using matrix manipulation on a face PC\n",
    "\n",
    "weights_matrix = pd.DataFrame(1 / 3, index=data.index, columns=data.columns)\n",
    "weights_matrix.tail()"
   ]
  },
  {
   "cell_type": "code",
   "execution_count": null,
   "metadata": {},
   "outputs": [],
   "source": [
    "log_returns.head()\n"
   ]
  },
  {
   "cell_type": "code",
   "execution_count": null,
   "metadata": {},
   "outputs": [],
   "source": [
    "# Initially the two matrices are multiplied. Note that we are only interested in the diagonal, \n",
    "# which is where the dates in the row-index and the column-index match.\n",
    "temp_var = weights_matrix.dot(log_returns.transpose())\n",
    "temp_var.head().iloc[:, 0:5]"
   ]
  },
  {
   "cell_type": "code",
   "execution_count": null,
   "metadata": {},
   "outputs": [],
   "source": [
    "# The numpy np.diag function is used to extract the diagonal and then\n",
    "# a Series is constructed using the time information from the log_returns index\n",
    "portfolio_log_returns = pd.Series(np.diag(temp_var), index=log_returns.index)\n",
    "portfolio_log_returns.tail()"
   ]
  },
  {
   "cell_type": "code",
   "execution_count": null,
   "metadata": {},
   "outputs": [],
   "source": [
    "total_relative_returns = (np.exp(portfolio_log_returns.cumsum()) - 1)\n",
    "\n",
    "fig, (ax1, ax2) = plt.subplots(2, 1, figsize=(16,12))\n",
    "\n",
    "ax1.plot(portfolio_log_returns.index, portfolio_log_returns.cumsum())\n",
    "ax1.set_ylabel('Portfolio cumulative log returns')\n",
    "\n",
    "ax2.plot(total_relative_returns.index, 100 * total_relative_returns)\n",
    "ax2.set_ylabel('Portfolio total relative returns (%)')\n",
    "\n",
    "plt.show()"
   ]
  },
  {
   "cell_type": "code",
   "execution_count": null,
   "metadata": {},
   "outputs": [],
   "source": [
    "# Calculating the time-related parameters of the simulation\n",
    "days_per_year = 52 * 5\n",
    "total_days_in_simulation = data.shape[0]\n",
    "number_of_years = total_days_in_simulation / days_per_year\n",
    "\n",
    "# The last data point will give us the total portfolio return\n",
    "total_portfolio_return = total_relative_returns[-1]\n",
    "# Average portfolio return assuming compunding of returns\n",
    "average_yearly_return = (1 + total_portfolio_return)**(1 / number_of_years) - 1\n",
    "\n",
    "print('Total portfolio return is: ' +\n",
    "      '{:5.2f}'.format(100 * total_portfolio_return) + '%')\n",
    "print('Average yearly return is: ' +\n",
    "      '{:5.2f}'.format(100 * average_yearly_return) + '%')"
   ]
  },
  {
   "cell_type": "code",
   "execution_count": null,
   "metadata": {},
   "outputs": [],
   "source": [
    "data = pd.read_pickle('./data.pkl')\n",
    "data.head(10)"
   ]
  },
  {
   "cell_type": "code",
   "execution_count": null,
   "metadata": {},
   "outputs": [],
   "source": [
    "# Calculating the short-window simple moving average\n",
    "short_rolling = data.rolling(window=20).mean()\n",
    "short_rolling.head(20)"
   ]
  },
  {
   "cell_type": "code",
   "execution_count": null,
   "metadata": {},
   "outputs": [],
   "source": [
    "# Calculating the long-window simple moving average\n",
    "long_rolling = data.rolling(window=100).mean()\n",
    "long_rolling.tail()"
   ]
  },
  {
   "cell_type": "code",
   "execution_count": null,
   "metadata": {},
   "outputs": [],
   "source": [
    "start_date = '2015-01-01'\n",
    "end_date = '2016-12-31'\n",
    "\n",
    "fig, ax = plt.subplots(figsize=(16,9))\n",
    "\n",
    "ax.plot(data.loc[start_date:end_date, :].index, data.loc[start_date:end_date, 'MSFT'], label='Price')\n",
    "ax.plot(long_rolling.loc[start_date:end_date, :].index, long_rolling.loc[start_date:end_date, 'MSFT'], label = '100-days SMA')\n",
    "ax.plot(short_rolling.loc[start_date:end_date, :].index, short_rolling.loc[start_date:end_date, 'MSFT'], label = '20-days SMA')\n",
    "\n",
    "ax.legend(loc='best')\n",
    "ax.set_ylabel('Price in $')\n",
    "ax.xaxis.set_major_formatter(my_year_month_fmt)"
   ]
  },
  {
   "cell_type": "code",
   "execution_count": null,
   "metadata": {},
   "outputs": [],
   "source": [
    "# to reduce the lag on moving averages; we use the EMA approach to weight the various points\n",
    "# Using Pandas to calculate a 20-days span EMA. adjust=False specifies that we are interested in the recursive calculation mode.\n",
    "ema_short = data.ewm(span=20, adjust=False).mean()\n",
    "\n",
    "fig, ax = plt.subplots(figsize=(15,9))\n",
    "\n",
    "ax.plot(data.loc[start_date:end_date, :].index, data.loc[start_date:end_date, 'MSFT'], label='Price')\n",
    "ax.plot(ema_short.loc[start_date:end_date, :].index, ema_short.loc[start_date:end_date, 'MSFT'], label = 'Span 20-days EMA')\n",
    "ax.plot(short_rolling.loc[start_date:end_date, :].index, short_rolling.loc[start_date:end_date, 'MSFT'], label = '20-days SMA')\n",
    "\n",
    "ax.legend(loc='best')\n",
    "ax.set_ylabel('Price in $')\n",
    "ax.xaxis.set_major_formatter(my_year_month_fmt)"
   ]
  },
  {
   "cell_type": "code",
   "execution_count": null,
   "metadata": {},
   "outputs": [],
   "source": [
    "# Taking the sign of the difference to determine whether the price or the EMA is greater and then multiplying by 1/3\n",
    "trading_positions = trading_positions_raw.apply(np.sign) * 1/3\n",
    "trading_positions.tail()"
   ]
  },
  {
   "cell_type": "code",
   "execution_count": null,
   "metadata": {},
   "outputs": [],
   "source": [
    "# Lagging our trading signals by one day.\n",
    "trading_positions_final = trading_positions.shift(1)\n"
   ]
  },
  {
   "cell_type": "code",
   "execution_count": null,
   "metadata": {},
   "outputs": [],
   "source": [
    "fig, (ax1, ax2) = plt.subplots(2, 1, figsize=(16,9))\n",
    "\n",
    "ax1.plot(data.loc[start_date:end_date, :].index, data.loc[start_date:end_date, 'MSFT'], label='Price')\n",
    "ax1.plot(ema_short.loc[start_date:end_date, :].index, ema_short.loc[start_date:end_date, 'MSFT'], label = 'Span 20-days EMA')\n",
    "\n",
    "ax1.set_ylabel('$')\n",
    "ax1.legend(loc='best')\n",
    "ax1.xaxis.set_major_formatter(my_year_month_fmt)\n",
    "\n",
    "ax2.plot(trading_positions_final.loc[start_date:end_date, :].index, trading_positions_final.loc[start_date:end_date, 'MSFT'], \n",
    "        label='Trading position')\n",
    "\n",
    "ax2.set_ylabel('Trading position')\n",
    "ax2.xaxis.set_major_formatter(my_year_month_fmt)"
   ]
  },
  {
   "cell_type": "code",
   "execution_count": null,
   "metadata": {},
   "outputs": [],
   "source": [
    "# Log returns - First the logarithm of the prices is taken and the the difference of consecutive (log) observations\n",
    "asset_log_returns = np.log(data).diff()\n",
    "asset_log_returns.head()"
   ]
  },
  {
   "cell_type": "code",
   "execution_count": null,
   "metadata": {},
   "outputs": [],
   "source": [
    "strategy_asset_log_returns = trading_positions_final * asset_log_returns\n",
    "strategy_asset_log_returns.tail()"
   ]
  },
  {
   "cell_type": "code",
   "execution_count": null,
   "metadata": {},
   "outputs": [],
   "source": [
    "# Get the cumulative log-returns per asset\n",
    "cum_strategy_asset_log_returns = strategy_asset_log_returns.cumsum()\n",
    "\n",
    "# Transform the cumulative log returns to relative returns\n",
    "cum_strategy_asset_relative_returns = np.exp(cum_strategy_asset_log_returns) - 1\n",
    "\n",
    "fig, (ax1, ax2) = plt.subplots(2, 1, figsize=(16,9))\n",
    "\n",
    "for c in asset_log_returns:\n",
    "    ax1.plot(cum_strategy_asset_log_returns.index, cum_strategy_asset_log_returns[c], label=str(c))\n",
    "\n",
    "ax1.set_ylabel('Cumulative log-returns')\n",
    "ax1.legend(loc='best')\n",
    "ax1.xaxis.set_major_formatter(my_year_month_fmt)\n",
    "\n",
    "for c in asset_log_returns:\n",
    "    ax2.plot(cum_strategy_asset_relative_returns.index, 100*cum_strategy_asset_relative_returns[c], label=str(c))\n",
    "\n",
    "ax2.set_ylabel('Total relative returns (%)')\n",
    "ax2.legend(loc='best')\n",
    "ax2.xaxis.set_major_formatter(my_year_month_fmt)"
   ]
  },
  {
   "cell_type": "code",
   "execution_count": null,
   "metadata": {},
   "outputs": [],
   "source": [
    "# Total strategy relative returns. This is the exact calculation.\n",
    "cum_relative_return_exact = cum_strategy_asset_relative_returns.sum(axis=1)\n",
    "\n",
    "# Get the cumulative log-returns per asset\n",
    "cum_strategy_log_return = cum_strategy_asset_log_returns.sum(axis=1)\n",
    "\n",
    "# Transform the cumulative log returns to relative returns. This is the approximation\n",
    "cum_relative_return_approx = np.exp(cum_strategy_log_return) - 1\n",
    "\n",
    "fig, ax = plt.subplots(figsize=(16,9))\n",
    "\n",
    "ax.plot(cum_relative_return_exact.index, 100*cum_relative_return_exact, label='Exact')\n",
    "ax.plot(cum_relative_return_approx.index, 100*cum_relative_return_approx, label='Approximation')\n",
    "\n",
    "ax.set_ylabel('Total cumulative relative returns (%)')\n",
    "ax.legend(loc='best')\n",
    "ax.xaxis.set_major_formatter(my_year_month_fmt)"
   ]
  }
 ],
 "metadata": {
  "kernelspec": {
   "display_name": "Python 3",
   "language": "python",
   "name": "python3"
  },
  "language_info": {
   "codemirror_mode": {
    "name": "ipython",
    "version": 3
   },
   "file_extension": ".py",
   "mimetype": "text/x-python",
   "name": "python",
   "nbconvert_exporter": "python",
   "pygments_lexer": "ipython3",
   "version": "3.6.4"
  }
 },
 "nbformat": 4,
 "nbformat_minor": 2
}
