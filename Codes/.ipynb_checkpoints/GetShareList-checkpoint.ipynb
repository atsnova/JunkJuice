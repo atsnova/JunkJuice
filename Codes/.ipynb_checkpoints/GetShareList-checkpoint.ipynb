{
 "cells": [
  {
   "cell_type": "code",
   "execution_count": 109,
   "metadata": {},
   "outputs": [],
   "source": [
    "from bs4 import BeautifulSoup\n",
    "import requests\n",
    "import quandl\n",
    "import datetime\n",
    "import fix_yahoo_finance as yf"
   ]
  },
  {
   "cell_type": "code",
   "execution_count": 99,
   "metadata": {},
   "outputs": [],
   "source": [
    "# get the information for the JSE\n",
    "page = requests.get('https://en.wikipedia.org/wiki/List_of_companies_traded_on_the_JSE')"
   ]
  },
  {
   "cell_type": "code",
   "execution_count": 100,
   "metadata": {},
   "outputs": [
    {
     "data": {
      "text/plain": [
       "'<!DOCTYPE html>\\n<html class=\"client-nojs\" lang=\"en\" dir=\"ltr\">\\n<head>\\n<meta charset=\"UTF-8\"/>\\n<title>List of companies traded on the JSE - Wikipedia</title>\\n<script>document.documentElement.className '"
      ]
     },
     "execution_count": 100,
     "metadata": {},
     "output_type": "execute_result"
    }
   ],
   "source": [
    "page.text[0:200]"
   ]
  },
  {
   "cell_type": "code",
   "execution_count": 101,
   "metadata": {},
   "outputs": [],
   "source": [
    "soup = BeautifulSoup(page.text, 'lxml')"
   ]
  },
  {
   "cell_type": "code",
   "execution_count": 102,
   "metadata": {},
   "outputs": [],
   "source": [
    "tickers = []\n",
    "for table in soup.findAll('table', {'class': 'wikitable sortable'}):\n",
    "    for row in table.findAll('tr')[1:]:\n",
    "        ticker = row.findAll('td')[0].text.strip()\n",
    "        tickers.append(ticker)"
   ]
  },
  {
   "cell_type": "code",
   "execution_count": 103,
   "metadata": {},
   "outputs": [],
   "source": [
    "tickers = list(filter(None, tickers)) # fastest way to remove the empty elements '' in the the list "
   ]
  },
  {
   "cell_type": "code",
   "execution_count": 104,
   "metadata": {},
   "outputs": [],
   "source": [
    "start = datetime.datetime(2016,1,1)\n",
    "end = datetime.date.today()"
   ]
  },
  {
   "cell_type": "code",
   "execution_count": 105,
   "metadata": {},
   "outputs": [
    {
     "data": {
      "text/plain": [
       "'ABSAB'"
      ]
     },
     "execution_count": 105,
     "metadata": {},
     "output_type": "execute_result"
    }
   ],
   "source": [
    "tickers[0]"
   ]
  },
  {
   "cell_type": "code",
   "execution_count": 106,
   "metadata": {},
   "outputs": [],
   "source": [
    "tickers = list(filter(None, tickers)) # fastest way to remove the empty elements '' in the the list "
   ]
  },
  {
   "cell_type": "code",
   "execution_count": 132,
   "metadata": {},
   "outputs": [
    {
     "name": "stdout",
     "output_type": "stream",
     "text": [
      "[*********************100%***********************]  1 of 1 downloaded\n"
     ]
    }
   ],
   "source": [
    "data = yf.download(\"SPY\", start=start, end=end) "
   ]
  },
  {
   "cell_type": "code",
   "execution_count": null,
   "metadata": {},
   "outputs": [],
   "source": []
  },
  {
   "cell_type": "code",
   "execution_count": 170,
   "metadata": {},
   "outputs": [],
   "source": [
    "data.rename(columns={'Adj Close':\"SPY\"},inplace=True)"
   ]
  },
  {
   "cell_type": "code",
   "execution_count": 173,
   "metadata": {},
   "outputs": [],
   "source": [
    "import bs4 as bs\n",
    "import requests\n",
    "import pickle\n",
    "\n",
    "\n",
    "def GetListOfTickers(Refresh=False):\n",
    "    ''' This function gets us the list of stocks from S&P500 and '''\n",
    "    ''' stores it in a list for later consumption'''\n",
    "\n",
    "    if Refresh==True:\n",
    "        try:\n",
    "            resp = requests.get('http://en.wikipedia.org/wiki/List_of_S%26P_500_companies')\n",
    "            soup = bs.BeautifulSoup(resp.text, 'lxml')\n",
    "            table = soup.find('table', {'class': 'wikitable sortable'})\n",
    "            tickers = []\n",
    "            for row in table.findAll('tr')[1:]:\n",
    "                ticker = row.findAll('td')[0].text\n",
    "                tickers.append(ticker)\n",
    "            with open(\"sp500tickers.pickle\", \"wb\") as f:\n",
    "                pickle.dump(tickers, f)\n",
    "        except:\n",
    "            tickers = [\"error in extraction process, check wikipedia source\"]\n",
    "    else:\n",
    "        try:\n",
    "            with open(\"sp500tickers.pickle\", \"rb\") as f:\n",
    "                tickers = pickle.load(f)\n",
    "        except:\n",
    "             tickers = \"Tickers files does not exist; please run with Refresh=True\"\n",
    "    return tickers\n",
    "\n",
    "tickers = GetListOfTickers(Refresh=False)\n"
   ]
  },
  {
   "cell_type": "code",
   "execution_count": 229,
   "metadata": {},
   "outputs": [
    {
     "name": "stdout",
     "output_type": "stream",
     "text": [
      "2017-01-30\n",
      "2018-11-02\n"
     ]
    }
   ],
   "source": [
    "import datetime as dt\n",
    "import os\n",
    "import quandl\n",
    "quandl.ApiConfig.api_key = '7U4XM3-WQBjPgMFmbPtD'\n",
    "\n",
    "startDate=dt.date(2017,1,30)\n",
    "endDate=dt.date.today()\n",
    "\n",
    "start = startDate\n",
    "end = endDate\n",
    "\n",
    "print(start)\n",
    "print(end)"
   ]
  },
  {
   "cell_type": "code",
   "execution_count": 300,
   "metadata": {},
   "outputs": [],
   "source": [
    "path = '/Users/atishparshotam/Google Drive/Git/JunkJuice/Data/Stock_Price'\n",
    "Tickers = ['AAPL','MMM','AMD']\n",
    "for ticker in Tickers:\n",
    "    # just in case your connection breaks, we'd like to save our progress!\n",
    "            \n",
    "    if not os.path.exists('Data/Stock_Price/{}.csv'.format(ticker)):\n",
    "        df = quandl.get(\"WIKI/\" + ticker, start_date=startDate, end_date=endDate)\n",
    "        # df.reset_index(inplace=True)\n",
    "        # df.set_index(\"Date\", inplace=True)\n",
    "        # df = df.drop(\"Symbol\", axis=1)\n",
    "        df=df[['Adj. Close']]\n",
    "        df.columns=[ticker]\n",
    "        df.to_csv(os.path.join(path,r'{}.csv'.format(ticker)))"
   ]
  },
  {
   "cell_type": "code",
   "execution_count": 302,
   "metadata": {},
   "outputs": [
    {
     "name": "stdout",
     "output_type": "stream",
     "text": [
      "Writing file for :AAPL\n",
      "                  AAPL\n",
      "Date                  \n",
      "2017-01-30  120.127692\n",
      "2017-01-31  119.851150\n",
      "2017-02-01  127.159749\n",
      "2017-02-02  126.942467\n",
      "2017-02-03  127.485673\n",
      "Writing file for :MMM\n",
      "                  AAPL         MMM\n",
      "Date                              \n",
      "2017-01-30  120.127692  172.249477\n",
      "2017-01-31  119.851150  171.660322\n",
      "2017-02-01  127.159749  172.003996\n",
      "2017-02-02  126.942467  171.031889\n",
      "2017-02-03  127.485673  171.876345\n",
      "Writing file for :AMD\n",
      "                  AAPL         MMM    AMD\n",
      "Date                                     \n",
      "2017-01-30  120.127692  172.249477  10.61\n",
      "2017-01-31  119.851150  171.660322  10.37\n",
      "2017-02-01  127.159749  172.003996  12.06\n",
      "2017-02-02  126.942467  171.031889  12.28\n",
      "2017-02-03  127.485673  171.876345  12.24\n"
     ]
    }
   ],
   "source": [
    "main_df = pd.DataFrame()\n",
    "for ticker in Tickers:\n",
    "            # just in case your connection breaks, we'd like to save our progress!\n",
    "                    \n",
    "            if not os.path.exists('Data/Stock_Price/{}.csv'.format(ticker)):\n",
    "                df = quandl.get(\"WIKI/\" + ticker, start_date=startDate, end_date=endDate)\n",
    "                df=df[['Adj. Close']]\n",
    "                df.columns=[ticker]\n",
    "                print(\"Writing file for :\" + ticker)\n",
    "                df.to_csv(os.path.join(path,r'{}.csv'.format(ticker)))\n",
    "            else:\n",
    "                print('Already have {}'.format(ticker))\n",
    "\n",
    "            if main_df.empty:\n",
    "                main_df = df\n",
    "            else:\n",
    "                main_df = main_df.join(df, how='outer')\n",
    "\n",
    "            print(main_df.head())"
   ]
  },
  {
   "cell_type": "code",
   "execution_count": 310,
   "metadata": {},
   "outputs": [
    {
     "data": {
      "text/html": [
       "<div>\n",
       "<style scoped>\n",
       "    .dataframe tbody tr th:only-of-type {\n",
       "        vertical-align: middle;\n",
       "    }\n",
       "\n",
       "    .dataframe tbody tr th {\n",
       "        vertical-align: top;\n",
       "    }\n",
       "\n",
       "    .dataframe thead th {\n",
       "        text-align: right;\n",
       "    }\n",
       "</style>\n",
       "<table border=\"1\" class=\"dataframe\">\n",
       "  <thead>\n",
       "    <tr style=\"text-align: right;\">\n",
       "      <th></th>\n",
       "      <th>AAPL</th>\n",
       "      <th>MMM</th>\n",
       "      <th>AMD</th>\n",
       "    </tr>\n",
       "    <tr>\n",
       "      <th>Date</th>\n",
       "      <th></th>\n",
       "      <th></th>\n",
       "      <th></th>\n",
       "    </tr>\n",
       "  </thead>\n",
       "  <tbody>\n",
       "    <tr>\n",
       "      <th>2017-01-30</th>\n",
       "      <td>120.127692</td>\n",
       "      <td>172.249477</td>\n",
       "      <td>10.61</td>\n",
       "    </tr>\n",
       "    <tr>\n",
       "      <th>2017-01-31</th>\n",
       "      <td>119.851150</td>\n",
       "      <td>171.660322</td>\n",
       "      <td>10.37</td>\n",
       "    </tr>\n",
       "    <tr>\n",
       "      <th>2017-02-01</th>\n",
       "      <td>127.159749</td>\n",
       "      <td>172.003996</td>\n",
       "      <td>12.06</td>\n",
       "    </tr>\n",
       "    <tr>\n",
       "      <th>2017-02-02</th>\n",
       "      <td>126.942467</td>\n",
       "      <td>171.031889</td>\n",
       "      <td>12.28</td>\n",
       "    </tr>\n",
       "    <tr>\n",
       "      <th>2017-02-03</th>\n",
       "      <td>127.485673</td>\n",
       "      <td>171.876345</td>\n",
       "      <td>12.24</td>\n",
       "    </tr>\n",
       "  </tbody>\n",
       "</table>\n",
       "</div>"
      ],
      "text/plain": [
       "                  AAPL         MMM    AMD\n",
       "Date                                     \n",
       "2017-01-30  120.127692  172.249477  10.61\n",
       "2017-01-31  119.851150  171.660322  10.37\n",
       "2017-02-01  127.159749  172.003996  12.06\n",
       "2017-02-02  126.942467  171.031889  12.28\n",
       "2017-02-03  127.485673  171.876345  12.24"
      ]
     },
     "execution_count": 310,
     "metadata": {},
     "output_type": "execute_result"
    }
   ],
   "source": [
    "main_df.head(5)"
   ]
  },
  {
   "cell_type": "code",
   "execution_count": 312,
   "metadata": {},
   "outputs": [
    {
     "data": {
      "text/html": [
       "<div>\n",
       "<style scoped>\n",
       "    .dataframe tbody tr th:only-of-type {\n",
       "        vertical-align: middle;\n",
       "    }\n",
       "\n",
       "    .dataframe tbody tr th {\n",
       "        vertical-align: top;\n",
       "    }\n",
       "\n",
       "    .dataframe thead th {\n",
       "        text-align: right;\n",
       "    }\n",
       "</style>\n",
       "<table border=\"1\" class=\"dataframe\">\n",
       "  <thead>\n",
       "    <tr style=\"text-align: right;\">\n",
       "      <th></th>\n",
       "      <th>AAPL</th>\n",
       "      <th>MMM</th>\n",
       "      <th>AMD</th>\n",
       "    </tr>\n",
       "  </thead>\n",
       "  <tbody>\n",
       "    <tr>\n",
       "      <th>AAPL</th>\n",
       "      <td>1.000000</td>\n",
       "      <td>0.847934</td>\n",
       "      <td>-0.521014</td>\n",
       "    </tr>\n",
       "    <tr>\n",
       "      <th>MMM</th>\n",
       "      <td>0.847934</td>\n",
       "      <td>1.000000</td>\n",
       "      <td>-0.246251</td>\n",
       "    </tr>\n",
       "    <tr>\n",
       "      <th>AMD</th>\n",
       "      <td>-0.521014</td>\n",
       "      <td>-0.246251</td>\n",
       "      <td>1.000000</td>\n",
       "    </tr>\n",
       "  </tbody>\n",
       "</table>\n",
       "</div>"
      ],
      "text/plain": [
       "          AAPL       MMM       AMD\n",
       "AAPL  1.000000  0.847934 -0.521014\n",
       "MMM   0.847934  1.000000 -0.246251\n",
       "AMD  -0.521014 -0.246251  1.000000"
      ]
     },
     "execution_count": 312,
     "metadata": {},
     "output_type": "execute_result"
    }
   ],
   "source": [
    "main_df.corr()"
   ]
  },
  {
   "cell_type": "code",
   "execution_count": 319,
   "metadata": {},
   "outputs": [
    {
     "name": "stdout",
     "output_type": "stream",
     "text": [
      "          AAPL       MMM       AMD\n",
      "AAPL  1.000000  0.847934 -0.521014\n",
      "MMM   0.847934  1.000000 -0.246251\n",
      "AMD  -0.521014 -0.246251  1.000000\n"
     ]
    },
    {
     "data": {
      "image/png": "[encoded data removed]",
      "text/plain": [
       "<Figure size 432x288 with 2 Axes>"
      ]
     },
     "metadata": {
      "needs_background": "light"
     },
     "output_type": "display_data"
    }
   ],
   "source": [
    "import matplotlib.pyplot as plt\n",
    "from matplotlib import style\n",
    "import numpy as np\n",
    "%matplotlib inline\n",
    "\n",
    "def visualize_data():\n",
    "    #df = pd.read_csv('sp500_joined_closes.csv')\n",
    "    #df['AAPL'].plot()\n",
    "    #plt.show()\n",
    "    df_corr = main_df.corr()\n",
    "    print(df_corr.head())\n",
    "#    df_corr.to_csv('sp500corr.csv')\n",
    "\n",
    "    data1 = df_corr.values\n",
    "    fig1 = plt.figure()\n",
    "    ax1 = fig1.add_subplot(1,1,1)\n",
    "\n",
    "    heatmap1 = ax1.pcolor(data1, cmap=plt.cm.RdYlGn)\n",
    "    fig1.colorbar(heatmap1)\n",
    "\n",
    "    ax1.set_xticks(np.arange(data1.shape[1]) + 0.5, minor=False)\n",
    "    ax1.set_yticks(np.arange(data1.shape[0]) + 0.5, minor=False)\n",
    "    ax1.invert_yaxis()\n",
    "    ax1.xaxis.tick_top()\n",
    "    column_labels = df_corr.columns\n",
    "    row_labels = df_corr.index\n",
    "    ax1.set_xticklabels(column_labels)\n",
    "    ax1.set_yticklabels(row_labels)\n",
    "    plt.xticks(rotation=90)\n",
    "    heatmap1.set_clim(-1,1)\n",
    "    plt.tight_layout()\n",
    "    #plt.savefig(\"correlations.png\", dpi = (300))\n",
    "    plt.show()\n",
    "\n",
    "visualize_data()"
   ]
  },
  {
   "cell_type": "code",
   "execution_count": 2,
   "metadata": {},
   "outputs": [
    {
     "name": "stdout",
     "output_type": "stream",
     "text": [
      "['MMM', 'ABT', 'ABBV', 'ABMD', 'ACN', 'ATVI', 'ADBE', 'AMD', 'AAP', 'AES', 'AET', 'AMG', 'AFL', 'A', 'APD', 'AKAM', 'ALK', 'ALB', 'ARE', 'ALXN', 'ALGN', 'ALLE', 'AGN', 'ADS', 'LNT', 'ALL', 'GOOGL', 'GOOG', 'MO', 'AMZN', 'AEE', 'AAL', 'AEP', 'AXP', 'AIG', 'AMT', 'AWK', 'AMP', 'ABC', 'AME', 'AMGN', 'APH', 'APC', 'ADI', 'ANSS', 'ANTM', 'AON', 'AOS', 'APA', 'AIV', 'AAPL', 'AMAT', 'APTV', 'ADM', 'ARNC', 'ANET', 'AJG', 'AIZ', 'T', 'ADSK', 'ADP', 'AZO', 'AVB', 'AVY', 'BHGE', 'BLL', 'BAC', 'BK', 'BAX', 'BBT', 'BDX', 'BRK-B', 'BBY', 'BIIB', 'BLK', 'HRB', 'BA', 'BKNG', 'BWA', 'BXP', 'BSX', 'BHF', 'BMY', 'AVGO', 'BR', 'BF-B', 'CHRW', 'CA', 'COG', 'CDNS', 'CPB', 'COF', 'CAH', 'KMX', 'CCL', 'CAT', 'CBOE', 'CBRE', 'CBS', 'CELG', 'CNC', 'CNP', 'CTL', 'CERN', 'CF', 'SCHW', 'CHTR', 'CVX', 'CMG', 'CB', 'CHD', 'CI', 'XEC', 'CINF', 'CTAS', 'CSCO', 'C', 'CFG', 'CTXS', 'CLX', 'CME', 'CMS', 'KO', 'CTSH', 'CL', 'CMCSA', 'CMA', 'CAG', 'CXO', 'COP', 'ED', 'STZ', 'COO', 'CPRT', 'GLW', 'COST', 'COTY', 'CCI', 'CSX', 'CMI', 'CVS', 'DHI', 'DHR', 'DRI', 'DVA', 'DE', 'DAL', 'XRAY', 'DVN', 'DLR', 'DFS', 'DISCA', 'DISCK', 'DISH', 'DG', 'DLTR', 'D', 'DOV', 'DWDP', 'DTE', 'DRE', 'DUK', 'DXC', 'ETFC', 'EMN', 'ETN', 'EBAY', 'ECL', 'EIX', 'EW', 'EA', 'EMR', 'ETR', 'EOG', 'EQT', 'EFX', 'EQIX', 'EQR', 'ESS', 'EL', 'EVRG', 'ES', 'RE', 'EXC', 'EXPE', 'EXPD', 'ESRX', 'EXR', 'XOM', 'FFIV', 'FB', 'FAST', 'FRT', 'FDX', 'FIS', 'FITB', 'FE', 'FISV', 'FLT', 'FLIR', 'FLS', 'FLR', 'FMC', 'FL', 'F', 'FTNT', 'FTV', 'FBHS', 'BEN', 'FCX', 'GPS', 'GRMN', 'IT', 'GD', 'GE', 'GIS', 'GM', 'GPC', 'GILD', 'GPN', 'GS', 'GT', 'GWW', 'HAL', 'HBI', 'HOG', 'HRS', 'HIG', 'HAS', 'HCA', 'HCP', 'HP', 'HSIC', 'HSY', 'HES', 'HPE', 'HLT', 'HFC', 'HOLX', 'HD', 'HON', 'HRL', 'HST', 'HPQ', 'HUM', 'HBAN', 'HII', 'IDXX', 'INFO', 'ITW', 'ILMN', 'IR', 'INTC', 'ICE', 'IBM', 'INCY', 'IP', 'IPG', 'IFF', 'INTU', 'ISRG', 'IVZ', 'IPGP', 'IQV', 'IRM', 'JEC', 'JBHT', 'JEF', 'SJM', 'JNJ', 'JCI', 'JPM', 'JNPR', 'KSU', 'K', 'KEY', 'KMB', 'KIM', 'KMI', 'KLAC', 'KSS', 'KHC', 'KR', 'LB', 'LLL', 'LH', 'LRCX', 'LEG', 'LEN', 'LLY', 'LNC', 'LIN', 'LKQ', 'LMT', 'L', 'LOW', 'LYB', 'MTB', 'MAC', 'M', 'MRO', 'MPC', 'MAR', 'MMC', 'MLM', 'MAS', 'MA', 'MAT', 'MKC', 'MCD', 'MCK', 'MDT', 'MRK', 'MET', 'MTD', 'MGM', 'KORS', 'MCHP', 'MU', 'MSFT', 'MAA', 'MHK', 'TAP', 'MDLZ', 'MNST', 'MCO', 'MS', 'MOS', 'MSI', 'MSCI', 'MYL', 'NDAQ', 'NOV', 'NKTR', 'NTAP', 'NFLX', 'NWL', 'NFX', 'NEM', 'NWSA', 'NWS', 'NEE', 'NLSN', 'NKE', 'NI', 'NBL', 'JWN', 'NSC', 'NTRS', 'NOC', 'NCLH', 'NRG', 'NUE', 'NVDA', 'ORLY', 'OXY', 'OMC', 'OKE', 'ORCL', 'PCAR', 'PKG', 'PH', 'PAYX', 'PYPL', 'PNR', 'PBCT', 'PEP', 'PKI', 'PRGO', 'PFE', 'PCG', 'PM', 'PSX', 'PNW', 'PXD', 'PNC', 'RL', 'PPG', 'PPL', 'PFG', 'PG', 'PGR', 'PLD', 'PRU', 'PEG', 'PSA', 'PHM', 'PVH', 'QRVO', 'PWR', 'QCOM', 'DGX', 'RJF', 'RTN', 'O', 'RHT', 'REG', 'REGN', 'RF', 'RSG', 'RMD', 'RHI', 'ROK', 'COL', 'ROL', 'ROP', 'ROST', 'RCL', 'CRM', 'SBAC', 'SCG', 'SLB', 'STX', 'SEE', 'SRE', 'SHW', 'SPG', 'SWKS', 'SLG', 'SNA', 'SO', 'LUV', 'SPGI', 'SWK', 'SBUX', 'STT', 'SRCL', 'SYK', 'STI', 'SIVB', 'SYMC', 'SYF', 'SNPS', 'SYY', 'TROW', 'TTWO', 'TPR', 'TGT', 'TEL', 'FTI', 'TXN', 'TXT', 'TMO', 'TIF', 'TWTR', 'TJX', 'TMK', 'TSS', 'TSCO', 'TDG', 'TRV', 'TRIP', 'FOXA', 'FOX', 'TSN', 'UDR', 'ULTA', 'USB', 'UAA', 'UA', 'UNP', 'UAL', 'UNH', 'UPS', 'URI', 'UTX', 'UHS', 'UNM', 'VFC', 'VLO', 'VAR', 'VTR', 'VRSN', 'VRSK', 'VZ', 'VRTX', 'VIAB', 'V', 'VNO', 'VMC', 'WMT', 'WBA', 'DIS', 'WM', 'WAT', 'WEC', 'WCG', 'WFC', 'WELL', 'WDC', 'WU', 'WRK', 'WY', 'WHR', 'WMB', 'WLTW', 'WYNN', 'XEL', 'XRX', 'XLNX', 'XYL', 'YUM', 'ZBH', 'ZION', 'ZTS']\n",
      "0\n",
      "10\n",
      "20\n",
      "30\n",
      "40\n",
      "50\n",
      "Ticker file ANET does not exist; please run with Refresh=True\n"
     ]
    },
    {
     "ename": "KeyError",
     "evalue": "'ANET'",
     "output_type": "error",
     "traceback": [
      "\u001b[0;31m---------------------------------------------------------------------------\u001b[0m",
      "\u001b[0;31mKeyError\u001b[0m                                  Traceback (most recent call last)",
      "\u001b[0;32m/Library/Frameworks/Python.framework/Versions/3.7/lib/python3.7/site-packages/pandas/core/indexes/base.py\u001b[0m in \u001b[0;36mget_loc\u001b[0;34m(self, key, method, tolerance)\u001b[0m\n\u001b[1;32m   3077\u001b[0m             \u001b[0;32mtry\u001b[0m\u001b[0;34m:\u001b[0m\u001b[0;34m\u001b[0m\u001b[0m\n\u001b[0;32m-> 3078\u001b[0;31m                 \u001b[0;32mreturn\u001b[0m \u001b[0mself\u001b[0m\u001b[0;34m.\u001b[0m\u001b[0m_engine\u001b[0m\u001b[0;34m.\u001b[0m\u001b[0mget_loc\u001b[0m\u001b[0;34m(\u001b[0m\u001b[0mkey\u001b[0m\u001b[0;34m)\u001b[0m\u001b[0;34m\u001b[0m\u001b[0m\n\u001b[0m\u001b[1;32m   3079\u001b[0m             \u001b[0;32mexcept\u001b[0m \u001b[0mKeyError\u001b[0m\u001b[0;34m:\u001b[0m\u001b[0;34m\u001b[0m\u001b[0m\n",
      "\u001b[0;32mpandas/_libs/index.pyx\u001b[0m in \u001b[0;36mpandas._libs.index.IndexEngine.get_loc\u001b[0;34m()\u001b[0m\n",
      "\u001b[0;32mpandas/_libs/index.pyx\u001b[0m in \u001b[0;36mpandas._libs.index.IndexEngine.get_loc\u001b[0;34m()\u001b[0m\n",
      "\u001b[0;32mpandas/_libs/hashtable_class_helper.pxi\u001b[0m in \u001b[0;36mpandas._libs.hashtable.PyObjectHashTable.get_item\u001b[0;34m()\u001b[0m\n",
      "\u001b[0;32mpandas/_libs/hashtable_class_helper.pxi\u001b[0m in \u001b[0;36mpandas._libs.hashtable.PyObjectHashTable.get_item\u001b[0;34m()\u001b[0m\n",
      "\u001b[0;31mKeyError\u001b[0m: 'ANET'",
      "\nDuring handling of the above exception, another exception occurred:\n",
      "\u001b[0;31mKeyError\u001b[0m                                  Traceback (most recent call last)",
      "\u001b[0;32m<ipython-input-2-421e8fa9ec01>\u001b[0m in \u001b[0;36m<module>\u001b[0;34m\u001b[0m\n\u001b[1;32m    208\u001b[0m \u001b[0;32mfor\u001b[0m \u001b[0mticker\u001b[0m \u001b[0;32min\u001b[0m \u001b[0mtickers\u001b[0m\u001b[0;34m:\u001b[0m\u001b[0;34m\u001b[0m\u001b[0m\n\u001b[1;32m    209\u001b[0m     \u001b[0;32mfor\u001b[0m \u001b[0mi\u001b[0m \u001b[0;32min\u001b[0m \u001b[0mrange\u001b[0m\u001b[0;34m(\u001b[0m\u001b[0;36m1\u001b[0m\u001b[0;34m,\u001b[0m\u001b[0mdays_forward\u001b[0m\u001b[0;34m+\u001b[0m\u001b[0;36m1\u001b[0m\u001b[0;34m)\u001b[0m\u001b[0;34m:\u001b[0m\u001b[0;34m\u001b[0m\u001b[0m\n\u001b[0;32m--> 210\u001b[0;31m         \u001b[0mprice_df\u001b[0m\u001b[0;34m[\u001b[0m\u001b[0;34m'{}_{}d'\u001b[0m\u001b[0;34m.\u001b[0m\u001b[0mformat\u001b[0m\u001b[0;34m(\u001b[0m\u001b[0mticker\u001b[0m\u001b[0;34m,\u001b[0m\u001b[0mi\u001b[0m\u001b[0;34m)\u001b[0m\u001b[0;34m]\u001b[0m \u001b[0;34m=\u001b[0m \u001b[0;34m(\u001b[0m\u001b[0mprice_df\u001b[0m\u001b[0;34m[\u001b[0m\u001b[0mticker\u001b[0m\u001b[0;34m]\u001b[0m\u001b[0;34m.\u001b[0m\u001b[0mshift\u001b[0m\u001b[0;34m(\u001b[0m\u001b[0;34m-\u001b[0m\u001b[0mi\u001b[0m\u001b[0;34m)\u001b[0m \u001b[0;34m-\u001b[0m \u001b[0mprice_df\u001b[0m\u001b[0;34m[\u001b[0m\u001b[0mticker\u001b[0m\u001b[0;34m]\u001b[0m\u001b[0;34m)\u001b[0m \u001b[0;34m/\u001b[0m \u001b[0mprice_df\u001b[0m\u001b[0;34m[\u001b[0m\u001b[0mticker\u001b[0m\u001b[0;34m]\u001b[0m\u001b[0;34m\u001b[0m\u001b[0m\n\u001b[0m\u001b[1;32m    211\u001b[0m \u001b[0;34m\u001b[0m\u001b[0m\n\u001b[1;32m    212\u001b[0m     \u001b[0mprice_df\u001b[0m\u001b[0;34m.\u001b[0m\u001b[0mfillna\u001b[0m\u001b[0;34m(\u001b[0m\u001b[0;36m0\u001b[0m\u001b[0;34m,\u001b[0m \u001b[0minplace\u001b[0m\u001b[0;34m=\u001b[0m\u001b[0;32mTrue\u001b[0m\u001b[0;34m)\u001b[0m\u001b[0;34m\u001b[0m\u001b[0m\n",
      "\u001b[0;32m/Library/Frameworks/Python.framework/Versions/3.7/lib/python3.7/site-packages/pandas/core/frame.py\u001b[0m in \u001b[0;36m__getitem__\u001b[0;34m(self, key)\u001b[0m\n\u001b[1;32m   2686\u001b[0m             \u001b[0;32mreturn\u001b[0m \u001b[0mself\u001b[0m\u001b[0;34m.\u001b[0m\u001b[0m_getitem_multilevel\u001b[0m\u001b[0;34m(\u001b[0m\u001b[0mkey\u001b[0m\u001b[0;34m)\u001b[0m\u001b[0;34m\u001b[0m\u001b[0m\n\u001b[1;32m   2687\u001b[0m         \u001b[0;32melse\u001b[0m\u001b[0;34m:\u001b[0m\u001b[0;34m\u001b[0m\u001b[0m\n\u001b[0;32m-> 2688\u001b[0;31m             \u001b[0;32mreturn\u001b[0m \u001b[0mself\u001b[0m\u001b[0;34m.\u001b[0m\u001b[0m_getitem_column\u001b[0m\u001b[0;34m(\u001b[0m\u001b[0mkey\u001b[0m\u001b[0;34m)\u001b[0m\u001b[0;34m\u001b[0m\u001b[0m\n\u001b[0m\u001b[1;32m   2689\u001b[0m \u001b[0;34m\u001b[0m\u001b[0m\n\u001b[1;32m   2690\u001b[0m     \u001b[0;32mdef\u001b[0m \u001b[0m_getitem_column\u001b[0m\u001b[0;34m(\u001b[0m\u001b[0mself\u001b[0m\u001b[0;34m,\u001b[0m \u001b[0mkey\u001b[0m\u001b[0;34m)\u001b[0m\u001b[0;34m:\u001b[0m\u001b[0;34m\u001b[0m\u001b[0m\n",
      "\u001b[0;32m/Library/Frameworks/Python.framework/Versions/3.7/lib/python3.7/site-packages/pandas/core/frame.py\u001b[0m in \u001b[0;36m_getitem_column\u001b[0;34m(self, key)\u001b[0m\n\u001b[1;32m   2693\u001b[0m         \u001b[0;31m# get column\u001b[0m\u001b[0;34m\u001b[0m\u001b[0;34m\u001b[0m\u001b[0m\n\u001b[1;32m   2694\u001b[0m         \u001b[0;32mif\u001b[0m \u001b[0mself\u001b[0m\u001b[0;34m.\u001b[0m\u001b[0mcolumns\u001b[0m\u001b[0;34m.\u001b[0m\u001b[0mis_unique\u001b[0m\u001b[0;34m:\u001b[0m\u001b[0;34m\u001b[0m\u001b[0m\n\u001b[0;32m-> 2695\u001b[0;31m             \u001b[0;32mreturn\u001b[0m \u001b[0mself\u001b[0m\u001b[0;34m.\u001b[0m\u001b[0m_get_item_cache\u001b[0m\u001b[0;34m(\u001b[0m\u001b[0mkey\u001b[0m\u001b[0;34m)\u001b[0m\u001b[0;34m\u001b[0m\u001b[0m\n\u001b[0m\u001b[1;32m   2696\u001b[0m \u001b[0;34m\u001b[0m\u001b[0m\n\u001b[1;32m   2697\u001b[0m         \u001b[0;31m# duplicate columns & possible reduce dimensionality\u001b[0m\u001b[0;34m\u001b[0m\u001b[0;34m\u001b[0m\u001b[0m\n",
      "\u001b[0;32m/Library/Frameworks/Python.framework/Versions/3.7/lib/python3.7/site-packages/pandas/core/generic.py\u001b[0m in \u001b[0;36m_get_item_cache\u001b[0;34m(self, item)\u001b[0m\n\u001b[1;32m   2487\u001b[0m         \u001b[0mres\u001b[0m \u001b[0;34m=\u001b[0m \u001b[0mcache\u001b[0m\u001b[0;34m.\u001b[0m\u001b[0mget\u001b[0m\u001b[0;34m(\u001b[0m\u001b[0mitem\u001b[0m\u001b[0;34m)\u001b[0m\u001b[0;34m\u001b[0m\u001b[0m\n\u001b[1;32m   2488\u001b[0m         \u001b[0;32mif\u001b[0m \u001b[0mres\u001b[0m \u001b[0;32mis\u001b[0m \u001b[0;32mNone\u001b[0m\u001b[0;34m:\u001b[0m\u001b[0;34m\u001b[0m\u001b[0m\n\u001b[0;32m-> 2489\u001b[0;31m             \u001b[0mvalues\u001b[0m \u001b[0;34m=\u001b[0m \u001b[0mself\u001b[0m\u001b[0;34m.\u001b[0m\u001b[0m_data\u001b[0m\u001b[0;34m.\u001b[0m\u001b[0mget\u001b[0m\u001b[0;34m(\u001b[0m\u001b[0mitem\u001b[0m\u001b[0;34m)\u001b[0m\u001b[0;34m\u001b[0m\u001b[0m\n\u001b[0m\u001b[1;32m   2490\u001b[0m             \u001b[0mres\u001b[0m \u001b[0;34m=\u001b[0m \u001b[0mself\u001b[0m\u001b[0;34m.\u001b[0m\u001b[0m_box_item_values\u001b[0m\u001b[0;34m(\u001b[0m\u001b[0mitem\u001b[0m\u001b[0;34m,\u001b[0m \u001b[0mvalues\u001b[0m\u001b[0;34m)\u001b[0m\u001b[0;34m\u001b[0m\u001b[0m\n\u001b[1;32m   2491\u001b[0m             \u001b[0mcache\u001b[0m\u001b[0;34m[\u001b[0m\u001b[0mitem\u001b[0m\u001b[0;34m]\u001b[0m \u001b[0;34m=\u001b[0m \u001b[0mres\u001b[0m\u001b[0;34m\u001b[0m\u001b[0m\n",
      "\u001b[0;32m/Library/Frameworks/Python.framework/Versions/3.7/lib/python3.7/site-packages/pandas/core/internals.py\u001b[0m in \u001b[0;36mget\u001b[0;34m(self, item, fastpath)\u001b[0m\n\u001b[1;32m   4113\u001b[0m \u001b[0;34m\u001b[0m\u001b[0m\n\u001b[1;32m   4114\u001b[0m             \u001b[0;32mif\u001b[0m \u001b[0;32mnot\u001b[0m \u001b[0misna\u001b[0m\u001b[0;34m(\u001b[0m\u001b[0mitem\u001b[0m\u001b[0;34m)\u001b[0m\u001b[0;34m:\u001b[0m\u001b[0;34m\u001b[0m\u001b[0m\n\u001b[0;32m-> 4115\u001b[0;31m                 \u001b[0mloc\u001b[0m \u001b[0;34m=\u001b[0m \u001b[0mself\u001b[0m\u001b[0;34m.\u001b[0m\u001b[0mitems\u001b[0m\u001b[0;34m.\u001b[0m\u001b[0mget_loc\u001b[0m\u001b[0;34m(\u001b[0m\u001b[0mitem\u001b[0m\u001b[0;34m)\u001b[0m\u001b[0;34m\u001b[0m\u001b[0m\n\u001b[0m\u001b[1;32m   4116\u001b[0m             \u001b[0;32melse\u001b[0m\u001b[0;34m:\u001b[0m\u001b[0;34m\u001b[0m\u001b[0m\n\u001b[1;32m   4117\u001b[0m                 \u001b[0mindexer\u001b[0m \u001b[0;34m=\u001b[0m \u001b[0mnp\u001b[0m\u001b[0;34m.\u001b[0m\u001b[0marange\u001b[0m\u001b[0;34m(\u001b[0m\u001b[0mlen\u001b[0m\u001b[0;34m(\u001b[0m\u001b[0mself\u001b[0m\u001b[0;34m.\u001b[0m\u001b[0mitems\u001b[0m\u001b[0;34m)\u001b[0m\u001b[0;34m)\u001b[0m\u001b[0;34m[\u001b[0m\u001b[0misna\u001b[0m\u001b[0;34m(\u001b[0m\u001b[0mself\u001b[0m\u001b[0;34m.\u001b[0m\u001b[0mitems\u001b[0m\u001b[0;34m)\u001b[0m\u001b[0;34m]\u001b[0m\u001b[0;34m\u001b[0m\u001b[0m\n",
      "\u001b[0;32m/Library/Frameworks/Python.framework/Versions/3.7/lib/python3.7/site-packages/pandas/core/indexes/base.py\u001b[0m in \u001b[0;36mget_loc\u001b[0;34m(self, key, method, tolerance)\u001b[0m\n\u001b[1;32m   3078\u001b[0m                 \u001b[0;32mreturn\u001b[0m \u001b[0mself\u001b[0m\u001b[0;34m.\u001b[0m\u001b[0m_engine\u001b[0m\u001b[0;34m.\u001b[0m\u001b[0mget_loc\u001b[0m\u001b[0;34m(\u001b[0m\u001b[0mkey\u001b[0m\u001b[0;34m)\u001b[0m\u001b[0;34m\u001b[0m\u001b[0m\n\u001b[1;32m   3079\u001b[0m             \u001b[0;32mexcept\u001b[0m \u001b[0mKeyError\u001b[0m\u001b[0;34m:\u001b[0m\u001b[0;34m\u001b[0m\u001b[0m\n\u001b[0;32m-> 3080\u001b[0;31m                 \u001b[0;32mreturn\u001b[0m \u001b[0mself\u001b[0m\u001b[0;34m.\u001b[0m\u001b[0m_engine\u001b[0m\u001b[0;34m.\u001b[0m\u001b[0mget_loc\u001b[0m\u001b[0;34m(\u001b[0m\u001b[0mself\u001b[0m\u001b[0;34m.\u001b[0m\u001b[0m_maybe_cast_indexer\u001b[0m\u001b[0;34m(\u001b[0m\u001b[0mkey\u001b[0m\u001b[0;34m)\u001b[0m\u001b[0;34m)\u001b[0m\u001b[0;34m\u001b[0m\u001b[0m\n\u001b[0m\u001b[1;32m   3081\u001b[0m \u001b[0;34m\u001b[0m\u001b[0m\n\u001b[1;32m   3082\u001b[0m         \u001b[0mindexer\u001b[0m \u001b[0;34m=\u001b[0m \u001b[0mself\u001b[0m\u001b[0;34m.\u001b[0m\u001b[0mget_indexer\u001b[0m\u001b[0;34m(\u001b[0m\u001b[0;34m[\u001b[0m\u001b[0mkey\u001b[0m\u001b[0;34m]\u001b[0m\u001b[0;34m,\u001b[0m \u001b[0mmethod\u001b[0m\u001b[0;34m=\u001b[0m\u001b[0mmethod\u001b[0m\u001b[0;34m,\u001b[0m \u001b[0mtolerance\u001b[0m\u001b[0;34m=\u001b[0m\u001b[0mtolerance\u001b[0m\u001b[0;34m)\u001b[0m\u001b[0;34m\u001b[0m\u001b[0m\n",
      "\u001b[0;32mpandas/_libs/index.pyx\u001b[0m in \u001b[0;36mpandas._libs.index.IndexEngine.get_loc\u001b[0;34m()\u001b[0m\n",
      "\u001b[0;32mpandas/_libs/index.pyx\u001b[0m in \u001b[0;36mpandas._libs.index.IndexEngine.get_loc\u001b[0;34m()\u001b[0m\n",
      "\u001b[0;32mpandas/_libs/hashtable_class_helper.pxi\u001b[0m in \u001b[0;36mpandas._libs.hashtable.PyObjectHashTable.get_item\u001b[0;34m()\u001b[0m\n",
      "\u001b[0;32mpandas/_libs/hashtable_class_helper.pxi\u001b[0m in \u001b[0;36mpandas._libs.hashtable.PyObjectHashTable.get_item\u001b[0;34m()\u001b[0m\n",
      "\u001b[0;31mKeyError\u001b[0m: 'ANET'"
     ]
    }
   ],
   "source": [
    "\n",
    "\n",
    "\n",
    "# we can only use the S&P500 as Quandal is limited in this regard\n",
    "# Ideally we would want to use Bloomberg API in the final version\n",
    "\n",
    "import bs4 as bs\n",
    "import requests\n",
    "import pickle\n",
    "import datetime as dt\n",
    "import os\n",
    "import quandl\n",
    "quandl.ApiConfig.api_key = '7U4XM3-WQBjPgMFmbPtD'\n",
    "import pandas as pd\n",
    "\n",
    "    \n",
    "import matplotlib.pyplot as plt\n",
    "from matplotlib import style\n",
    "import numpy as np\n",
    "#%matplotlib inline\n",
    "\n",
    "\n",
    "\n",
    "\n",
    "\n",
    "\n",
    "def GetListOfTickers(Refresh=False):\n",
    "    ''' This function gets us the list of stocks from S&P500 and '''\n",
    "    ''' stores it in a list for later consumption'''\n",
    "    path = '/Users/atishparshotam/Google Drive/Git/JunkJuice/Data'\n",
    "    if Refresh==True:\n",
    "        try:\n",
    "            resp = requests.get('http://en.wikipedia.org/wiki/List_of_S%26P_500_companies')\n",
    "            soup = bs.BeautifulSoup(resp.text, 'lxml')\n",
    "            table = soup.find('table', {'class': 'wikitable sortable'})\n",
    "            tickers = []\n",
    "            for row in table.findAll('tr')[1:]:\n",
    "                ticker = row.findAll('td')[0].text\n",
    "                tickers.append(ticker)\n",
    "            with open('sp500tickers.pickle', 'wb') as f:\n",
    "                pickle.dump(tickers, f)\n",
    "        except:\n",
    "            tickers = [\"error in extraction process, check wikipedia source\"]\n",
    "    else:\n",
    "        try:\n",
    "            with open('sp500tickers.pickle', 'rb') as f:\n",
    "                tickers = pickle.load(f)\n",
    "        except:\n",
    "             tickers = \"Tickers files does not exist; please run with Refresh=True\"\n",
    "    return tickers\n",
    "\n",
    "\n",
    "\n",
    "\n",
    "\n",
    "\n",
    "def GetTickerPrice(Refresh=False, Tickers=[],startDate=dt.date(2010,1,1),endDate=dt.date.today()):\n",
    "    ''' This function gets us price information using Quandal'''\n",
    "    ''' we pass in the tickers information from GetListOfTickers ie'''\n",
    "    ''' tickers and we get a list of csv files over a date range '''\n",
    "    ''' each stock is stored in its own directory in csv format'''\n",
    "    ''' pass in start and end date using dt.datetime(YYYY,MM,CC) format'''\n",
    "    \n",
    "    #start = dt.datetime(2000,01,01)\n",
    "    #end = dt.datetime(2000,01,01)\n",
    "    path = '/Users/atishparshotam/Google Drive/Git/JunkJuice/Data/Stock_Price'\n",
    "\n",
    "    if Refresh==True:\n",
    "        # get the table for daily stock prices and,\n",
    "        # filter the table for selected tickers, columns within a time range\n",
    "        # set paginate to True because Quandl limits tables API to 10,000 rows per call\n",
    "        try:       \n",
    "            main_df = pd.DataFrame()\n",
    "            for ticker in Tickers:\n",
    "                # just in case your connection breaks, we'd like to save our progress!\n",
    "                        \n",
    "                if not os.path.exists('Data/Stock_Price/{}.csv'.format(ticker)):\n",
    "                    df = quandl.get(\"WIKI/\" + ticker, start_date=startDate, end_date=endDate)\n",
    "                    df=df[['Adj. Close']]\n",
    "                    df.columns=[ticker]\n",
    "                    print(\"Writing file for :\" + ticker)\n",
    "                    df.to_csv(os.path.join(path,r'{}.csv'.format(ticker)))\n",
    "                else:\n",
    "                    print('Already have {}'.format(ticker))\n",
    "\n",
    "                if main_df.empty:\n",
    "                    main_df = df\n",
    "                else:\n",
    "                    main_df = main_df.join(df, how='outer')\n",
    "\n",
    "            print(main_df.head(3))\n",
    "            \n",
    "        except:\n",
    "            print( 'Ticker file ' + str(ticker) + ' had an error in extraction')\n",
    "            pass\n",
    "            #return(main_df)\n",
    "    else:\n",
    "        #read all directory and CSV files.\n",
    "\n",
    "        try:\n",
    "            main_df = pd.DataFrame()\n",
    "            for count, ticker in enumerate(Tickers):\n",
    "                df = pd.read_csv(os.path.join(path,r'{}.csv'.format(ticker)))\n",
    "                df.set_index('Date', inplace=True)\n",
    "\n",
    "              #  df.rename(columns={'Adj Close': ticker}, inplace=True)\n",
    "              #  df.drop(['Open', 'High', 'Low', 'Close', 'Volume'], 1, inplace=True)\n",
    "\n",
    "                if main_df.empty:\n",
    "                    main_df = df\n",
    "                else:\n",
    "                    main_df = main_df.join(df, how='outer')\n",
    "\n",
    "                if count % 10 == 0:\n",
    "                    print(count)\n",
    "            print(main_df.head(3))\n",
    "        except:\n",
    "            print( 'Ticker file ' + str(ticker) + ' does not exist; please run with Refresh=True')\n",
    "            pass\n",
    "        return(main_df)\n",
    "\n",
    "\n",
    "\n",
    "def GetTickerFundamental(Refresh=False, startDate=dt.date(2010,1,1),endDate=dt.date.today()):\n",
    "    ''' This function gets us price information using Quandal'''\n",
    "    ''' we pass in the tickers information from GetListOfTickers ie'''\n",
    "    ''' tickers and we get a list of csv files over a date range '''\n",
    "    ''' each stock is stored in its own directory in csv format'''\n",
    "    ''' pass in start and end date using dt.datetime(YYYY,MM,CC) format'''\n",
    "\n",
    "    path = '/Users/atishparshotam/Google Drive/Git/JunkJuice/Data/Fundamental'\n",
    "    FundamentalDF = pd.DataFrame()\n",
    "    for count, ticker in enumerate(tickers):        \n",
    "        df = pd.read_csv(os.path.join(path,r'{}_quarterly_financial_data.csv'.format(ticker)))\n",
    "        df.set_index('Quarter end', inplace=True)\n",
    "\n",
    "        #df.rename(columns={'Adj Close': ticker}, inplace=True)\n",
    "        #df.drop(['Open', 'High', 'Low', 'Close', 'Volume'], 1, inplace=True)\n",
    "\n",
    "        if FundamentalDF.empty:\n",
    "            FundamentalDF = df\n",
    "        else:\n",
    "            FundamentalDF = FundamentalDF.join(df, how='outer')\n",
    "\n",
    "        if count % 10 == 0:\n",
    "                print(count)\n",
    "        print(FundamentalDF.head(5))\n",
    "    return(FundamentalDF)\n",
    "\n",
    "\n",
    "\n",
    "def visualize_data(input_df):\n",
    "    #df = pd.read_csv('sp500_joined_closes.csv')\n",
    "    #df['AAPL'].plot()\n",
    "    #plt.show()\n",
    "    df_corr = input_df.corr()\n",
    "    print(df_corr.head())\n",
    "\n",
    "    data1 = df_corr.values\n",
    "    fig1 = plt.figure()\n",
    "    ax1 = fig1.add_subplot(1,1,1)\n",
    "\n",
    "    heatmap1 = ax1.pcolor(data1, cmap=plt.cm.RdYlGn)\n",
    "    fig1.colorbar(heatmap1)\n",
    "\n",
    "    ax1.set_xticks(np.arange(data1.shape[1]) + 0.5, minor=False)\n",
    "    ax1.set_yticks(np.arange(data1.shape[0]) + 0.5, minor=False)\n",
    "    ax1.invert_yaxis()\n",
    "    ax1.xaxis.tick_top()\n",
    "    column_labels = df_corr.columns\n",
    "    row_labels = df_corr.index\n",
    "    ax1.set_xticklabels(column_labels)\n",
    "    ax1.set_yticklabels(row_labels)\n",
    "    plt.xticks(rotation=90)\n",
    "    heatmap1.set_clim(-1,1)\n",
    "    plt.tight_layout()\n",
    "    #plt.savefig(\"correlations.png\", dpi = (300))\n",
    "    plt.show()\n",
    "\n",
    "\n",
    "\n",
    "def process_data_for_labels(tickers,inDataFrame,days_forward=90):\n",
    "    #hm_days = days_forward\n",
    "    #df = pd.read_csv('sp500_joined_closes.csv', index_col=0)\n",
    "    #tickers = df.columns.values.tolist()\n",
    "    inDataFrame.fillna(0, inplace=True)\n",
    "\n",
    "    for i in range(1,days_forward+1):\n",
    "        print()\n",
    "        inDataFrame['{}_{}d'.format(ticker,i)] = (inDataFrame[ticker].shift(-i) - inDataFrame[ticker]) / inDataFrame[ticker]\n",
    "\n",
    "    inDataFrame.fillna(0, inplace=True)\n",
    "    return tickers, inDataFrame\n",
    "\n",
    "\n",
    "\n",
    "tickers = GetListOfTickers(Refresh=False)\n",
    "print(tickers)\n",
    "price_df = GetTickerPrice(Refresh=False,Tickers=tickers)\n",
    "#print(price_df)\n",
    "#Fundamental_df = GetTickerFundamental(Refresh=False)\n",
    "#visualize_data(price_df)\n",
    "#ticker,pricedf = process_data_for_labels(price_df)\n",
    "\n"
   ]
  },
  {
   "cell_type": "code",
   "execution_count": 25,
   "metadata": {},
   "outputs": [
    {
     "name": "stdout",
     "output_type": "stream",
     "text": [
      "0\n",
      "10\n",
      "20\n",
      "30\n",
      "40\n",
      "50\n",
      "Ticker file ANET does not exist; please run with Refresh=True\n"
     ]
    }
   ],
   "source": [
    "price_df = GetTickerPrice(Refresh=False,Tickers=tickers)"
   ]
  },
  {
   "cell_type": "code",
   "execution_count": 27,
   "metadata": {},
   "outputs": [
    {
     "name": "stdout",
     "output_type": "stream",
     "text": [
      "ABT\n",
      "ABBV\n",
      "['ABT', 'ABBV']\n",
      "90\n"
     ]
    }
   ],
   "source": [
    "days_forward=90\n",
    "\n",
    "price_df.fillna(0, inplace=True)\n",
    "for ticker in tickers[1:3]:\n",
    "#    for i in range(1,days_forward+1):\n",
    "    price_df['{}_{}d'.format(ticker,i)] = (price_df[ticker].shift(-i) - price_df[ticker]) / price_df[ticker]\n",
    "    print(ticker)\n",
    "price_df.fillna(0, inplace=True)\n",
    "\n",
    "\n",
    "\n",
    "print(tickers[1:3])\n",
    "print(i)"
   ]
  },
  {
   "cell_type": "code",
   "execution_count": null,
   "metadata": {},
   "outputs": [],
   "source": [
    "plt.plot(price_df[['ABT','ABT_90d']])\n",
    "plt.show()"
   ]
  }
 ],
 "metadata": {
  "kernelspec": {
   "display_name": "Python 3",
   "language": "python",
   "name": "python3"
  },
  "language_info": {
   "codemirror_mode": {
    "name": "ipython",
    "version": 3
   },
   "file_extension": ".py",
   "mimetype": "text/x-python",
   "name": "python",
   "nbconvert_exporter": "python",
   "pygments_lexer": "ipython3",
   "version": "3.7.0"
  }
 },
 "nbformat": 4,
 "nbformat_minor": 2
}
