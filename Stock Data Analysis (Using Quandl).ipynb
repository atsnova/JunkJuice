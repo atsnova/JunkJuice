{
 "cells": [
  {
   "cell_type": "code",
   "execution_count": 5,
   "metadata": {},
   "outputs": [],
   "source": [
    "import pandas as pd\n",
    "import quandl\n",
    "import datetime\n",
    " \n",
    "# We will look at stock prices over the past year, starting at January 1, 2016\n",
    "start = datetime.datetime(2016,1,1)\n",
    "end = datetime.date.today()\n",
    " \n",
    "# Let's get Apple stock data; Apple's ticker symbol is AAPL\n",
    "# First argument is the series we want, second is the source (\"yahoo\" for Yahoo! Finance), third is the start date, fourth is the end date\n",
    "s = \"AAPL\"\n",
    "apple = quandl.get(\"WIKI/\" + s, start_date=start, end_date=end)\n",
    " \n",
    "type(apple)"
   ]
  },
  {
   "cell_type": "code",
   "execution_count": null,
   "metadata": {},
   "outputs": [],
   "source": [
    "pandas.core.frame.DataFrame"
   ]
  },
  {
   "cell_type": "code",
   "execution_count": null,
   "metadata": {},
   "outputs": [],
   "source": [
    "apple.head()"
   ]
  },
  {
   "cell_type": "code",
   "execution_count": null,
   "metadata": {},
   "outputs": [],
   "source": [
    "import matplotlib.pyplot as plt   # Import matplotlib\n",
    "# This line is necessary for the plot to appear in a Jupyter notebook\n",
    "%matplotlib inline\n",
    "# Control the default size of figures in this Jupyter notebook\n",
    "%pylab inline\n",
    "pylab.rcParams['figure.figsize'] = (15, 9)   # Change the size of plots\n",
    " \n",
    "apple[\"Adj. Close\"].plot(grid = True) # Plot the adjusted closing price of AAPL"
   ]
  },
  {
   "cell_type": "code",
   "execution_count": null,
   "metadata": {},
   "outputs": [],
   "source": [
    "Populating the interactive namespace from numpy and matplotlib"
   ]
  },
  {
   "cell_type": "code",
   "execution_count": 6,
   "metadata": {},
   "outputs": [],
   "source": [
    "# We will look at stock prices over the past year, starting at January 1, 2016\n",
    "start = datetime.datetime(2016,1,1)\n",
    "#end = datetime.date.today()\n",
    "end = datetime.datetime(2018,7,17)\n"
   ]
  },
  {
   "cell_type": "code",
   "execution_count": null,
   "metadata": {},
   "outputs": [],
   "source": [
    "from matplotlib.dates import DateFormatter, WeekdayLocator,DayLocator, MONDAY\n",
    "from mpl_finance import candlestick_ohlc\n",
    " \n",
    "def pandas_candlestick_ohlc(dat, stick = \"day\", adj = False, otherseries = None):\n",
    "    \"\"\"\n",
    "    :param dat: pandas DataFrame object with datetime64 index, and float columns \"Open\", \"High\", \"Low\", and \"Close\", likely created via DataReader from \"yahoo\"\n",
    "    :param stick: A string or number indicating the period of time covered by a single candlestick. Valid string inputs include \"day\", \"week\", \"month\", and \"year\", (\"day\" default), and any numeric input indicates the number of trading days included in a period\n",
    "    :param adj: A boolean indicating whether to use adjusted prices\n",
    "    :param otherseries: An iterable that will be coerced into a list, containing the columns of dat that hold other series to be plotted as lines\n",
    " \n",
    "    This will show a Japanese candlestick plot for stock data stored in dat, also plotting other series if passed.\n",
    "    \"\"\"\n",
    "    mondays = WeekdayLocator(MONDAY)        # major ticks on the mondays\n",
    "    alldays = DayLocator()              # minor ticks on the days\n",
    "    dayFormatter = DateFormatter('%d')      # e.g., 12\n",
    " \n",
    "    # Create a new DataFrame which includes OHLC data for each period specified by stick input\n",
    "    fields = [\"Open\", \"High\", \"Low\", \"Close\"]\n",
    "    if adj:\n",
    "        fields = [\"Adj. \" + s for s in fields]\n",
    "    transdat = dat.loc[:,fields]\n",
    "    transdat.columns = pd.Index([\"Open\", \"High\", \"Low\", \"Close\"])\n",
    "    if (type(stick) == str):\n",
    "        if stick == \"day\":\n",
    "            plotdat = transdat\n",
    "            stick = 1 # Used for plotting\n",
    "        elif stick in [\"week\", \"month\", \"year\"]:\n",
    "            if stick == \"week\":\n",
    "                transdat[\"week\"] = pd.to_datetime(transdat.index).map(lambda x: x.isocalendar()[1]) # Identify weeks\n",
    "            elif stick == \"month\":\n",
    "                transdat[\"month\"] = pd.to_datetime(transdat.index).map(lambda x: x.month) # Identify months\n",
    "            transdat[\"year\"] = pd.to_datetime(transdat.index).map(lambda x: x.isocalendar()[0]) # Identify years\n",
    "            grouped = transdat.groupby(list(set([\"year\",stick]))) # Group by year and other appropriate variable\n",
    "            plotdat = pd.DataFrame({\"Open\": [], \"High\": [], \"Low\": [], \"Close\": []}) # Create empty data frame containing what will be plotted\n",
    "            for name, group in grouped:\n",
    "                plotdat = plotdat.append(pd.DataFrame({\"Open\": group.iloc[0,0],\n",
    "                                            \"High\": max(group.High),\n",
    "                                            \"Low\": min(group.Low),\n",
    "                                            \"Close\": group.iloc[-1,3]},\n",
    "                                           index = [group.index[0]]))\n",
    "            if stick == \"week\": stick = 5\n",
    "            elif stick == \"month\": stick = 30\n",
    "            elif stick == \"year\": stick = 365\n",
    " \n",
    "    elif (type(stick) == int and stick >= 1):\n",
    "        transdat[\"stick\"] = [np.floor(i / stick) for i in range(len(transdat.index))]\n",
    "        grouped = transdat.groupby(\"stick\")\n",
    "        plotdat = pd.DataFrame({\"Open\": [], \"High\": [], \"Low\": [], \"Close\": []}) # Create empty data frame containing what will be plotted\n",
    "        for name, group in grouped:\n",
    "            plotdat = plotdat.append(pd.DataFrame({\"Open\": group.iloc[0,0],\n",
    "                                        \"High\": max(group.High),\n",
    "                                        \"Low\": min(group.Low),\n",
    "                                        \"Close\": group.iloc[-1,3]},\n",
    "                                       index = [group.index[0]]))\n",
    " \n",
    "    else:\n",
    "        raise ValueError('Valid inputs to argument \"stick\" include the strings \"day\", \"week\", \"month\", \"year\", or a positive integer')\n",
    " \n",
    " \n",
    "    # Set plot parameters, including the axis object ax used for plotting\n",
    "    fig, ax = plt.subplots()\n",
    "    fig.subplots_adjust(bottom=0.2)\n",
    "    if plotdat.index[-1] - plotdat.index[0] < pd.Timedelta('730 days'):\n",
    "        weekFormatter = DateFormatter('%b %d')  # e.g., Jan 12\n",
    "        ax.xaxis.set_major_locator(mondays)\n",
    "        ax.xaxis.set_minor_locator(alldays)\n",
    "    else:\n",
    "        weekFormatter = DateFormatter('%b %d, %Y')\n",
    "    ax.xaxis.set_major_formatter(weekFormatter)\n",
    " \n",
    "    ax.grid(True)\n",
    " \n",
    "    # Create the candelstick chart\n",
    "    candlestick_ohlc(ax, list(zip(list(date2num(plotdat.index.tolist())), plotdat[\"Open\"].tolist(), plotdat[\"High\"].tolist(),\n",
    "                      plotdat[\"Low\"].tolist(), plotdat[\"Close\"].tolist())),\n",
    "                      colorup = \"black\", colordown = \"red\", width = stick * .4)\n",
    " \n",
    "    # Plot other series (such as moving averages) as lines\n",
    "    if otherseries != None:\n",
    "        if type(otherseries) != list:\n",
    "            otherseries = [otherseries]\n",
    "        dat.loc[:,otherseries].plot(ax = ax, lw = 1.3, grid = True)\n",
    " \n",
    "    ax.xaxis_date()\n",
    "    ax.autoscale_view()\n",
    "    plt.setp(plt.gca().get_xticklabels(), rotation=45, horizontalalignment='right')\n",
    " \n",
    "    plt.show()\n"
   ]
  },
  {
   "cell_type": "code",
   "execution_count": null,
   "metadata": {},
   "outputs": [],
   "source": [
    "pandas_candlestick_ohlc(apple, adj=True, stick=\"month\")"
   ]
  },
  {
   "cell_type": "code",
   "execution_count": null,
   "metadata": {},
   "outputs": [],
   "source": [
    "microsoft, google = (quandl.get(\"WIKI/\" + s, start_date=start, end_date=end) for s in [\"MSFT\", \"GOOG\"])\n",
    " \n",
    "# Below I create a DataFrame consisting of the adjusted closing price of these stocks, first by making a list of these objects and using the join method\n",
    "stocks = pd.DataFrame({\"AAPL\": apple[\"Adj. Close\"],\n",
    "                      \"MSFT\": microsoft[\"Adj. Close\"],\n",
    "                      \"GOOG\": google[\"Adj. Close\"]})\n",
    " \n",
    "stocks.head()"
   ]
  },
  {
   "cell_type": "code",
   "execution_count": null,
   "metadata": {},
   "outputs": [],
   "source": [
    "stocks.plot(grid = True)"
   ]
  },
  {
   "cell_type": "code",
   "execution_count": null,
   "metadata": {},
   "outputs": [],
   "source": [
    "stocks.plot(secondary_y = [\"AAPL\", \"MSFT\"], grid = True)"
   ]
  },
  {
   "cell_type": "code",
   "execution_count": null,
   "metadata": {},
   "outputs": [],
   "source": [
    "python\n",
    "# df.apply(arg) will apply the function arg to each column in df, and return a DataFrame with the result\n",
    "# Recall that lambda x is an anonymous function accepting parameter x; in this case, x will be a pandas Series object\n",
    "stock_return = stocks.apply(lambda x: x / x[0])\n",
    "stock_return.head() - 1"
   ]
  },
  {
   "cell_type": "code",
   "execution_count": null,
   "metadata": {},
   "outputs": [],
   "source": [
    "stock_return.plot(grid = True).axhline(y = 1, color = \"black\", lw = 2)"
   ]
  },
  {
   "cell_type": "code",
   "execution_count": null,
   "metadata": {},
   "outputs": [],
   "source": [
    "#import pandas_datareader.data as web    # Going to get SPY from Yahoo! (I know I said you shouldn't but I didn't have a choice)\n",
    "#spyder = web.DataReader(\"SPY\", \"yahoo\", start, end)    # Didn't work\n",
    "#spyder = web.DataReader(\"SPY\", \"google\", start, end)    # Didn't work either\n",
    "# If all else fails, read from a file, obtained from here: http://www.nasdaq.com/symbol/spy/historical\n",
    "spyderdat = pd.read_csv(\"/home/curtis/Downloads/HistoricalQuotes.csv\")    # Obviously specific to my system; set to\n",
    "                                                                         # location on your machine\n",
    "spyderdat = pd.DataFrame(spyderdat.loc[:, [\"open\", \"high\", \"low\", \"close\", \"close\"]].iloc[1:].as_matrix(),\n",
    "                         index=pd.DatetimeIndex(spyderdat.iloc[1:, 0]),\n",
    "                         columns=[\"Open\", \"High\", \"Low\", \"Close\", \"Adj Close\"]).sort_index()\n",
    " \n",
    "spyder = spyderdat.loc[start:end]\n",
    " \n",
    "stocks = stocks.join(spyder.loc[:, \"Adj Close\"]).rename(columns={\"Adj Close\": \"SPY\"})\n",
    "stocks.head()"
   ]
  },
  {
   "cell_type": "code",
   "execution_count": null,
   "metadata": {},
   "outputs": [],
   "source": [
    "stock_return = stocks.apply(lambda x: x / x[0])\n",
    "stock_return.plot(grid = True).axhline(y = 1, color = \"black\", lw = 2)"
   ]
  },
  {
   "cell_type": "code",
   "execution_count": null,
   "metadata": {},
   "outputs": [],
   "source": [
    "stock_change_apr = stock_change * 252 * 100    # There are 252 trading days in a year; the 100 converts to percentages\n",
    "stock_change_apr.tail()"
   ]
  },
  {
   "cell_type": "code",
   "execution_count": null,
   "metadata": {},
   "outputs": [],
   "source": [
    "tbill = quandl.get(\"FRED/TB3MS\", start_date=start, end_date=end)\n",
    "tbill.tail()\n",
    "tbill.plot()"
   ]
  },
  {
   "cell_type": "code",
   "execution_count": null,
   "metadata": {},
   "outputs": [],
   "source": [
    "rrf = tbill.iloc[-1, 0]    # Get the most recent Treasury Bill rate\n",
    "rrf"
   ]
  },
  {
   "cell_type": "code",
   "execution_count": null,
   "metadata": {},
   "outputs": [],
   "source": [
    "smcorr = stock_change_apr.drop(\"SPY\", 1).corrwith(stock_change_apr.SPY)    # Since RRF is constant it doesn't change the\n",
    "                                                                           # correlation so we can ignore it in our\n",
    "                                                                           # calculation\n",
    "smcorr"
   ]
  },
  {
   "cell_type": "code",
   "execution_count": null,
   "metadata": {},
   "outputs": [],
   "source": [
    "sy = stock_change_apr.drop(\"SPY\", 1).std()\n",
    "sx = stock_change_apr.SPY.std()\n",
    "sy"
   ]
  },
  {
   "cell_type": "code",
   "execution_count": null,
   "metadata": {},
   "outputs": [],
   "source": [
    "sx    # Standard deviation for x\n"
   ]
  },
  {
   "cell_type": "code",
   "execution_count": null,
   "metadata": {},
   "outputs": [],
   "source": [
    "ybar = stock_change_apr.drop(\"SPY\", 1).mean() - rrf\n",
    "xbar = stock_change_apr.SPY.mean() - rrf\n",
    "ybar"
   ]
  },
  {
   "cell_type": "code",
   "execution_count": null,
   "metadata": {},
   "outputs": [],
   "source": [
    "xbar"
   ]
  },
  {
   "cell_type": "code",
   "execution_count": null,
   "metadata": {},
   "outputs": [],
   "source": [
    "beta = smcorr * sy / sx\n",
    "alpha = ybar - beta * xbar\n",
    "beta"
   ]
  },
  {
   "cell_type": "code",
   "execution_count": null,
   "metadata": {},
   "outputs": [],
   "source": [
    "alpha\n"
   ]
  },
  {
   "cell_type": "code",
   "execution_count": null,
   "metadata": {},
   "outputs": [],
   "source": [
    "sharpe = (ybar - rrf)/sy\n",
    "sharpe\n"
   ]
  },
  {
   "cell_type": "code",
   "execution_count": null,
   "metadata": {},
   "outputs": [],
   "source": [
    "(xbar - rrf)/sx"
   ]
  },
  {
   "cell_type": "code",
   "execution_count": null,
   "metadata": {},
   "outputs": [],
   "source": [
    "apple[\"20d\"] = np.round(apple[\"Adj. Close\"].rolling(window = 20, center = False).mean(), 2)\n",
    "pandas_candlestick_ohlc(apple.loc['2016-01-04':'2016-12-31',:], otherseries = \"20d\", adj=True)"
   ]
  },
  {
   "cell_type": "code",
   "execution_count": null,
   "metadata": {},
   "outputs": [],
   "source": [
    "start = datetime.datetime(2010,1,1)\n",
    "apple = quandl.get(\"WIKI/AAPL\", start_date=start, end_date=end)\n",
    "apple[\"20d\"] = np.round(apple[\"Adj. Close\"].rolling(window = 20, center = False).mean(), 2)\n",
    " \n",
    "pandas_candlestick_ohlc(apple.loc['2016-01-04':'2016-12-31',:], otherseries = \"20d\", adj=True)"
   ]
  },
  {
   "cell_type": "code",
   "execution_count": null,
   "metadata": {},
   "outputs": [],
   "source": [
    "apple[\"50d\"] = np.round(apple[\"Adj. Close\"].rolling(window = 50, center = False).mean(), 2)\n",
    "apple[\"200d\"] = np.round(apple[\"Adj. Close\"].rolling(window = 200, center = False).mean(), 2)\n",
    " \n",
    "pandas_candlestick_ohlc(apple.loc['2016-01-04':'2016-12-31',:], otherseries = [\"20d\", \"50d\", \"200d\"], adj=True)"
   ]
  },
  {
   "cell_type": "code",
   "execution_count": null,
   "metadata": {},
   "outputs": [],
   "source": [
    "apple['20d-50d'] = apple['20d'] - apple['50d']\n",
    "apple.tail()"
   ]
  },
  {
   "cell_type": "code",
   "execution_count": null,
   "metadata": {},
   "outputs": [],
   "source": [
    "# np.where() is a vectorized if-else function, where a condition is checked for each component of a vector, and the first argument passed is used when the condition holds, and the other passed if it does not\n",
    "apple[\"Regime\"] = np.where(apple['20d-50d'] > 0, 1, 0)\n",
    "# We have 1's for bullish regimes and 0's for everything else. Below I replace bearish regimes's values with -1, and to maintain the rest of the vector, the second argument is apple[\"Regime\"]\n",
    "apple[\"Regime\"] = np.where(apple['20d-50d'] < 0, -1, apple[\"Regime\"])\n",
    "apple.loc['2016-01-04':'2016-12-31',\"Regime\"].plot(ylim = (-2,2)).axhline(y = 0, color = \"black\", lw = 2)"
   ]
  },
  {
   "cell_type": "code",
   "execution_count": null,
   "metadata": {},
   "outputs": [],
   "source": [
    "apple[\"Regime\"].plot(ylim = (-2,2)).axhline(y = 0, color = \"black\", lw = 2)"
   ]
  },
  {
   "cell_type": "code",
   "execution_count": null,
   "metadata": {},
   "outputs": [],
   "source": [
    "apple[\"Regime\"].value_counts()\n"
   ]
  },
  {
   "cell_type": "code",
   "execution_count": null,
   "metadata": {},
   "outputs": [],
   "source": [
    "# To ensure that all trades close out, I temporarily change the regime of the last row to 0\n",
    "regime_orig = apple.loc[:, \"Regime\"].iloc[-1]\n",
    "apple.loc[:, \"Regime\"].iloc[-1] = 0\n",
    "apple[\"Signal\"] = np.sign(apple[\"Regime\"] - apple[\"Regime\"].shift(1))\n",
    "# Restore original regime data\n",
    "apple.loc[:, \"Regime\"].iloc[-1] = regime_orig\n",
    "apple.tail()"
   ]
  },
  {
   "cell_type": "code",
   "execution_count": null,
   "metadata": {},
   "outputs": [],
   "source": [
    "/home/curtis/anaconda3/lib/python3.6/site-packages/pandas/core/indexing.py:194: SettingWithCopyWarning:\n",
    "A value is trying to be set on a copy of a slice from a DataFrame\n",
    " \n",
    "See the caveats in the documentation: http://pandas.pydata.org/pandas-docs/stable/indexing.html#indexing-view-versus-copy\n",
    "      self._setitem_with_indexer(indexer, value)"
   ]
  },
  {
   "cell_type": "code",
   "execution_count": null,
   "metadata": {},
   "outputs": [],
   "source": [
    "apple[\"Signal\"].plot(ylim = (-2, 2))"
   ]
  },
  {
   "cell_type": "code",
   "execution_count": null,
   "metadata": {},
   "outputs": [],
   "source": [
    "apple[\"Signal\"].value_counts()"
   ]
  },
  {
   "cell_type": "code",
   "execution_count": null,
   "metadata": {},
   "outputs": [],
   "source": [
    "apple.loc[apple[\"Signal\"] == 1, \"Close\"]"
   ]
  },
  {
   "cell_type": "code",
   "execution_count": null,
   "metadata": {},
   "outputs": [],
   "source": [
    "apple.loc[apple[\"Signal\"] == -1, \"Close\"]"
   ]
  },
  {
   "cell_type": "code",
   "execution_count": null,
   "metadata": {},
   "outputs": [],
   "source": [
    "# Create a DataFrame with trades, including the price at the trade and the regime under which the trade is made.\n",
    "apple_signals = pd.concat([\n",
    "        pd.DataFrame({\"Price\": apple.loc[apple[\"Signal\"] == 1, \"Adj. Close\"],\n",
    "                     \"Regime\": apple.loc[apple[\"Signal\"] == 1, \"Regime\"],\n",
    "                     \"Signal\": \"Buy\"}),\n",
    "        pd.DataFrame({\"Price\": apple.loc[apple[\"Signal\"] == -1, \"Adj. Close\"],\n",
    "                     \"Regime\": apple.loc[apple[\"Signal\"] == -1, \"Regime\"],\n",
    "                     \"Signal\": \"Sell\"}),\n",
    "    ])\n",
    "apple_signals.sort_index(inplace = True)\n",
    "apple_signals"
   ]
  },
  {
   "cell_type": "code",
   "execution_count": null,
   "metadata": {},
   "outputs": [],
   "source": [
    "# Let's see the profitability of long trades\n",
    "apple_long_profits = pd.DataFrame({\n",
    "        \"Price\": apple_signals.loc[(apple_signals[\"Signal\"] == \"Buy\") &\n",
    "                                  apple_signals[\"Regime\"] == 1, \"Price\"],\n",
    "        \"Profit\": pd.Series(apple_signals[\"Price\"] - apple_signals[\"Price\"].shift(1)).loc[\n",
    "            apple_signals.loc[(apple_signals[\"Signal\"].shift(1) == \"Buy\") & (apple_signals[\"Regime\"].shift(1) == 1)].index\n",
    "        ].tolist(),\n",
    "        \"End Date\": apple_signals[\"Price\"].loc[\n",
    "            apple_signals.loc[(apple_signals[\"Signal\"].shift(1) == \"Buy\") & (apple_signals[\"Regime\"].shift(1) == 1)].index\n",
    "        ].index\n",
    "    })\n",
    "apple_long_profits"
   ]
  },
  {
   "cell_type": "code",
   "execution_count": null,
   "metadata": {},
   "outputs": [],
   "source": [
    "# We need to get the low of the price during each trade.\n",
    "tradeperiods = pd.DataFrame({\"Start\": apple_long_profits.index,\n",
    "                            \"End\": apple_long_profits[\"End Date\"]})\n",
    "apple_long_profits[\"Low\"] = tradeperiods.apply(lambda x: min(apple.loc[x[\"Start\"]:x[\"End\"], \"Adj. Low\"]), axis = 1)\n",
    "apple_long_profits"
   ]
  },
  {
   "cell_type": "code",
   "execution_count": null,
   "metadata": {},
   "outputs": [],
   "source": [
    "# Now we have all the information needed to simulate this strategy in apple_adj_long_profits\n",
    "cash = 1000000\n",
    "apple_backtest = pd.DataFrame({\"Start Port. Value\": [],\n",
    "                         \"End Port. Value\": [],\n",
    "                         \"End Date\": [],\n",
    "                         \"Shares\": [],\n",
    "                         \"Share Price\": [],\n",
    "                         \"Trade Value\": [],\n",
    "                         \"Profit per Share\": [],\n",
    "                         \"Total Profit\": [],\n",
    "                         \"Stop-Loss Triggered\": []})\n",
    "port_value = .1  # Max proportion of portfolio bet on any trade\n",
    "batch = 100      # Number of shares bought per batch\n",
    "stoploss = .2    # % of trade loss that would trigger a stoploss\n",
    "for index, row in apple_long_profits.iterrows():\n",
    "    batches = np.floor(cash * port_value) // np.ceil(batch * row[\"Price\"]) # Maximum number of batches of stocks invested in\n",
    "    trade_val = batches * batch * row[\"Price\"] # How much money is put on the line with each trade\n",
    "    if row[\"Low\"] < (1 - stoploss) * row[\"Price\"]:   # Account for the stop-loss\n",
    "        share_profit = np.round((1 - stoploss) * row[\"Price\"], 2)\n",
    "        stop_trig = True\n",
    "    else:\n",
    "        share_profit = row[\"Profit\"]\n",
    "        stop_trig = False\n",
    "    profit = share_profit * batches * batch # Compute profits\n",
    "    # Add a row to the backtest data frame containing the results of the trade\n",
    "    apple_backtest = apple_backtest.append(pd.DataFrame({\n",
    "                \"Start Port. Value\": cash,\n",
    "                \"End Port. Value\": cash + profit,\n",
    "                \"End Date\": row[\"End Date\"],\n",
    "                \"Shares\": batch * batches,\n",
    "                \"Share Price\": row[\"Price\"],\n",
    "                \"Trade Value\": trade_val,\n",
    "                \"Profit per Share\": share_profit,\n",
    "                \"Total Profit\": profit,\n",
    "                \"Stop-Loss Triggered\": stop_trig\n",
    "            }, index = [index]))\n",
    "    cash = max(0, cash + profit)"
   ]
  },
  {
   "cell_type": "code",
   "execution_count": null,
   "metadata": {},
   "outputs": [],
   "source": [
    "apple_backtest"
   ]
  },
  {
   "cell_type": "code",
   "execution_count": null,
   "metadata": {},
   "outputs": [],
   "source": [
    "apple_backtest[\"End Port. Value\"].plot()"
   ]
  },
  {
   "cell_type": "code",
   "execution_count": null,
   "metadata": {},
   "outputs": [],
   "source": [
    "def ma_crossover_orders(stocks, fast, slow):\n",
    "    \"\"\"\n",
    "    :param stocks: A list of tuples, the first argument in each tuple being a string containing the ticker symbol of each stock (or however you want the stock represented, so long as it's unique), and the second being a pandas DataFrame containing the stocks, with a \"Close\" column and indexing by date (like the data frames returned by the Yahoo! Finance API)\n",
    "    :param fast: Integer for the number of days used in the fast moving average\n",
    "    :param slow: Integer for the number of days used in the slow moving average\n",
    " \n",
    "    :return: pandas DataFrame containing stock orders\n",
    " \n",
    "    This function takes a list of stocks and determines when each stock would be bought or sold depending on a moving average crossover strategy, returning a data frame with information about when the stocks in the portfolio are bought or sold according to the strategy\n",
    "    \"\"\"\n",
    "    fast_str = str(fast) + 'd'\n",
    "    slow_str = str(slow) + 'd'\n",
    "    ma_diff_str = fast_str + '-' + slow_str\n",
    " \n",
    "    trades = pd.DataFrame({\"Price\": [], \"Regime\": [], \"Signal\": []})\n",
    "    for s in stocks:\n",
    "        # Get the moving averages, both fast and slow, along with the difference in the moving averages\n",
    "        s[1][fast_str] = np.round(s[1][\"Close\"].rolling(window = fast, center = False).mean(), 2)\n",
    "        s[1][slow_str] = np.round(s[1][\"Close\"].rolling(window = slow, center = False).mean(), 2)\n",
    "        s[1][ma_diff_str] = s[1][fast_str] - s[1][slow_str]\n",
    " \n",
    "        # np.where() is a vectorized if-else function, where a condition is checked for each component of a vector, and the first argument passed is used when the condition holds, and the other passed if it does not\n",
    "        s[1][\"Regime\"] = np.where(s[1][ma_diff_str] > 0, 1, 0)\n",
    "        # We have 1's for bullish regimes and 0's for everything else. Below I replace bearish regimes's values with -1, and to maintain the rest of the vector, the second argument is apple[\"Regime\"]\n",
    "        s[1][\"Regime\"] = np.where(s[1][ma_diff_str] < 0, -1, s[1][\"Regime\"])\n",
    "        # To ensure that all trades close out, I temporarily change the regime of the last row to 0\n",
    "        regime_orig = s[1].loc[:, \"Regime\"].iloc[-1]\n",
    "        s[1].loc[:, \"Regime\"].iloc[-1] = 0\n",
    "        s[1][\"Signal\"] = np.sign(s[1][\"Regime\"] - s[1][\"Regime\"].shift(1))\n",
    "        # Restore original regime data\n",
    "        s[1].loc[:, \"Regime\"].iloc[-1] = regime_orig\n",
    " \n",
    "        # Get signals\n",
    "        signals = pd.concat([\n",
    "            pd.DataFrame({\"Price\": s[1].loc[s[1][\"Signal\"] == 1, \"Adj. Close\"],\n",
    "                         \"Regime\": s[1].loc[s[1][\"Signal\"] == 1, \"Regime\"],\n",
    "                         \"Signal\": \"Buy\"}),\n",
    "            pd.DataFrame({\"Price\": s[1].loc[s[1][\"Signal\"] == -1, \"Adj. Close\"],\n",
    "                         \"Regime\": s[1].loc[s[1][\"Signal\"] == -1, \"Regime\"],\n",
    "                         \"Signal\": \"Sell\"}),\n",
    "        ])\n",
    "        signals.index = pd.MultiIndex.from_product([signals.index, [s[0]]], names = [\"Date\", \"Symbol\"])\n",
    "        trades = trades.append(signals)\n",
    " \n",
    "    trades.sort_index(inplace = True)\n",
    "    trades.index = pd.MultiIndex.from_tuples(trades.index, names = [\"Date\", \"Symbol\"])\n",
    " \n",
    "    return trades\n",
    " \n",
    " \n",
    "def backtest(signals, cash, port_value = .1, batch = 100):\n",
    "    \"\"\"\n",
    "    :param signals: pandas DataFrame containing buy and sell signals with stock prices and symbols, like that returned by ma_crossover_orders\n",
    "    :param cash: integer for starting cash value\n",
    "    :param port_value: maximum proportion of portfolio to risk on any single trade\n",
    "    :param batch: Trading batch sizes\n",
    " \n",
    "    :return: pandas DataFrame with backtesting results\n",
    " \n",
    "    This function backtests strategies, with the signals generated by the strategies being passed in the signals DataFrame. A fictitious portfolio is simulated and the returns generated by this portfolio are reported.\n",
    "    \"\"\"\n",
    " \n",
    "    SYMBOL = 1 # Constant for which element in index represents symbol\n",
    "    portfolio = dict()    # Will contain how many stocks are in the portfolio for a given symbol\n",
    "    port_prices = dict()  # Tracks old trade prices for determining profits\n",
    "    # Dataframe that will contain backtesting report\n",
    "    results = pd.DataFrame({\"Start Cash\": [],\n",
    "                            \"End Cash\": [],\n",
    "                            \"Portfolio Value\": [],\n",
    "                            \"Type\": [],\n",
    "                            \"Shares\": [],\n",
    "                            \"Share Price\": [],\n",
    "                            \"Trade Value\": [],\n",
    "                            \"Profit per Share\": [],\n",
    "                            \"Total Profit\": []})\n",
    " \n",
    "    for index, row in signals.iterrows():\n",
    "        # These first few lines are done for any trade\n",
    "        shares = portfolio.setdefault(index[SYMBOL], 0)\n",
    "        trade_val = 0\n",
    "        batches = 0\n",
    "        cash_change = row[\"Price\"] * shares   # Shares could potentially be a positive or negative number (cash_change will be added in the end; negative shares indicate a short)\n",
    "        portfolio[index[SYMBOL]] = 0  # For a given symbol, a position is effectively cleared\n",
    " \n",
    "        old_price = port_prices.setdefault(index[SYMBOL], row[\"Price\"])\n",
    "        portfolio_val = 0\n",
    "        for key, val in portfolio.items():\n",
    "            portfolio_val += val * port_prices[key]\n",
    " \n",
    "        if row[\"Signal\"] == \"Buy\" and row[\"Regime\"] == 1:  # Entering a long position\n",
    "            batches = np.floor((portfolio_val + cash) * port_value) // np.ceil(batch * row[\"Price\"]) # Maximum number of batches of stocks invested in\n",
    "            trade_val = batches * batch * row[\"Price\"] # How much money is put on the line with each trade\n",
    "            cash_change -= trade_val  # We are buying shares so cash will go down\n",
    "            portfolio[index[SYMBOL]] = batches * batch  # Recording how many shares are currently invested in the stock\n",
    "            port_prices[index[SYMBOL]] = row[\"Price\"]   # Record price\n",
    "            old_price = row[\"Price\"]\n",
    "        elif row[\"Signal\"] == \"Sell\" and row[\"Regime\"] == -1: # Entering a short\n",
    "            pass\n",
    "            # Do nothing; can we provide a method for shorting the market?\n",
    "        #else:\n",
    "            #raise ValueError(\"I don't know what to do with signal \" + row[\"Signal\"])\n",
    " \n",
    "        pprofit = row[\"Price\"] - old_price   # Compute profit per share; old_price is set in such a way that entering a position results in a profit of zero\n",
    " \n",
    "        # Update report\n",
    "        results = results.append(pd.DataFrame({\n",
    "                \"Start Cash\": cash,\n",
    "                \"End Cash\": cash + cash_change,\n",
    "                \"Portfolio Value\": cash + cash_change + portfolio_val + trade_val,\n",
    "                \"Type\": row[\"Signal\"],\n",
    "                \"Shares\": batch * batches,\n",
    "                \"Share Price\": row[\"Price\"],\n",
    "                \"Trade Value\": abs(cash_change),\n",
    "                \"Profit per Share\": pprofit,\n",
    "                \"Total Profit\": batches * batch * pprofit\n",
    "            }, index = [index]))\n",
    "        cash += cash_change  # Final change to cash balance\n",
    " \n",
    "    results.sort_index(inplace = True)\n",
    "    results.index = pd.MultiIndex.from_tuples(results.index, names = [\"Date\", \"Symbol\"])\n",
    " \n",
    "    return results\n",
    " \n",
    "# Get more stocks\n",
    "(microsoft, google, facebook, twitter, netflix,\n",
    "amazon, yahoo, ge, qualcomm, ibm, hp) = (quandl.get(\"WIKI/\" + s, start_date=start,\n",
    "                                                                         end_date=end) for s in [\"MSFT\", \"GOOG\", \"FB\", \"TWTR\",\n",
    "                                                                                                 \"NFLX\", \"AMZN\", \"YHOO\", \"GE\",\n",
    "                                                                                                 \"QCOM\", \"IBM\", \"HPQ\"])"
   ]
  },
  {
   "cell_type": "code",
   "execution_count": null,
   "metadata": {},
   "outputs": [],
   "source": [
    "signals = ma_crossover_orders([(\"AAPL\", apple),\n",
    "                              (\"MSFT\",  microsoft),\n",
    "                              (\"GOOG\",  google),\n",
    "                              (\"FB\",    facebook),\n",
    "                              (\"TWTR\",  twitter),\n",
    "                              (\"NFLX\",  netflix),\n",
    "                              (\"AMZN\",  amazon),\n",
    "                              (\"YHOO\",  yahoo),\n",
    "                              (\"GE\",    ge),\n",
    "                              (\"QCOM\",  qualcomm),\n",
    "                              (\"IBM\",   ibm),\n",
    "                              (\"HPQ\",   hp)],\n",
    "                            fast = 20, slow = 50)\n",
    "signals"
   ]
  },
  {
   "cell_type": "code",
   "execution_count": null,
   "metadata": {},
   "outputs": [],
   "source": [
    "/home/curtis/anaconda3/lib/python3.6/site-packages/pandas/core/indexing.py:194: SettingWithCopyWarning:\n",
    "A value is trying to be set on a copy of a slice from a DataFrame\n",
    " \n",
    "See the caveats in the documentation: http://pandas.pydata.org/pandas-docs/stable/indexing.html#indexing-view-versus-copy\n",
    "self._setitem_with_indexer(indexer, value)"
   ]
  },
  {
   "cell_type": "code",
   "execution_count": null,
   "metadata": {},
   "outputs": [],
   "source": [
    "bk = backtest(signals, 1000000)\n",
    "bk"
   ]
  },
  {
   "cell_type": "code",
   "execution_count": null,
   "metadata": {},
   "outputs": [],
   "source": [
    "bk[\"Portfolio Value\"].groupby(level = 0).apply(lambda x: x[-1]).plot()"
   ]
  },
  {
   "cell_type": "code",
   "execution_count": null,
   "metadata": {},
   "outputs": [],
   "source": [
    "#spyder = web.DataReader(\"SPY\", \"yahoo\", start, end)\n",
    "spyder = spyderdat.loc[start:end]\n",
    "spyder.iloc[[0,-1],:]"
   ]
  },
  {
   "cell_type": "code",
   "execution_count": null,
   "metadata": {},
   "outputs": [],
   "source": [
    "batches = 1000000 // np.ceil(100 * spyder.loc[:,\"Adj Close\"].iloc[0]) # Maximum number of batches of stocks invested in\n",
    "trade_val = batches * batch * spyder.loc[:,\"Adj Close\"].iloc[0] # How much money is used to buy SPY\n",
    "final_val = batches * batch * spyder.loc[:,\"Adj Close\"].iloc[-1] + (1000000 - trade_val) # Final value of the portfolio\n",
    "final_val"
   ]
  },
  {
   "cell_type": "code",
   "execution_count": null,
   "metadata": {},
   "outputs": [],
   "source": [
    "# We see that the buy-and-hold strategy beats the strategy we developed earlier. I would also like to see a plot.\n",
    "ax_bench = (spyder[\"Adj Close\"] / spyder.loc[:, \"Adj Close\"].iloc[0]).plot(label = \"SPY\")\n",
    "ax_bench = (bk[\"Portfolio Value\"].groupby(level = 0).apply(lambda x: x[-1]) / 1000000).plot(ax = ax_bench, label = \"Portfolio\")\n",
    "ax_bench.legend(ax_bench.get_lines(), [l.get_label() for l in ax_bench.get_lines()], loc = 'best')\n",
    "ax_bench"
   ]
  },
  {
   "cell_type": "markdown",
   "metadata": {},
   "source": [
    "there are better packages for this task. Python has some libraries for algorithmic trading, such as pyfolio (for analytics), zipline (for backtesting and algorithmic trading), and backtrader (also for backtesting and trading). zipline seems to be popular likely because it is used and developed by quantopian, a “crowd-sourced hedge fund” that allows users to use their data for backtesting and even will license profitable strategies from their authors, giving them a cut of the profits. "
   ]
  }
 ],
 "metadata": {
  "kernelspec": {
   "display_name": "Python 3",
   "language": "python",
   "name": "python3"
  },
  "language_info": {
   "codemirror_mode": {
    "name": "ipython",
    "version": 3
   },
   "file_extension": ".py",
   "mimetype": "text/x-python",
   "name": "python",
   "nbconvert_exporter": "python",
   "pygments_lexer": "ipython3",
   "version": "3.6.4"
  }
 },
 "nbformat": 4,
 "nbformat_minor": 2
}
